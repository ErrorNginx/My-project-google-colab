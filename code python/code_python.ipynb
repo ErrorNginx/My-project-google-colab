{
  "cells": [
    {
      "cell_type": "markdown",
      "metadata": {
        "id": "view-in-github",
        "colab_type": "text"
      },
      "source": [
        "<a href=\"https://colab.research.google.com/github/ErrorNginx/My-project-google-colab/blob/main/code%20python/code_python.ipynb\" target=\"_parent\"><img src=\"https://colab.research.google.com/assets/colab-badge.svg\" alt=\"Open In Colab\"/></a>"
      ]
    },
    {
      "cell_type": "markdown",
      "metadata": {
        "id": "aEazgHz1JnIE"
      },
      "source": [
        "# Pengenalan Dasar-Dasar Python\n",
        "\n",
        "Hi Saya Suwarti.. Disini saya akan coba sedikit sharing tentang Pengenalan Dasar-Dasar Python.."
      ]
    },
    {
      "cell_type": "code",
      "execution_count": null,
      "metadata": {
        "id": "gYZIZGrtJnII",
        "outputId": "7a6ade02-6028-41ed-ba04-d76a6d9436f9"
      },
      "outputs": [
        {
          "name": "stdout",
          "output_type": "stream",
          "text": [
            "Halo Dunia\n"
          ]
        }
      ],
      "source": [
        "#tulis print dengan huruf kecil\n",
        "\n",
        "print(\"Halo Dunia\")"
      ]
    },
    {
      "cell_type": "markdown",
      "metadata": {
        "id": "zIfx41-xJnIK"
      },
      "source": [
        "# Operasi Aritmatika"
      ]
    },
    {
      "cell_type": "code",
      "execution_count": null,
      "metadata": {
        "id": "GsjJJC9RJnIK",
        "outputId": "74f83a03-27e4-4f51-ebc3-2858cb24e928"
      },
      "outputs": [
        {
          "data": {
            "text/plain": [
              "10"
            ]
          },
          "execution_count": 2,
          "metadata": {},
          "output_type": "execute_result"
        }
      ],
      "source": [
        "#operasi aritmatika\n",
        "#contoh: 5 ditambah 5 sama dengan 10\n",
        "#+ : lambang tambah\n",
        "\n",
        "5+5"
      ]
    },
    {
      "cell_type": "code",
      "execution_count": null,
      "metadata": {
        "id": "WzibqwD8JnIL",
        "outputId": "667294d9-2b41-44b3-c87a-75bfb18fa05c"
      },
      "outputs": [
        {
          "data": {
            "text/plain": [
              "25"
            ]
          },
          "execution_count": 3,
          "metadata": {},
          "output_type": "execute_result"
        }
      ],
      "source": [
        "#operasi aritmatika\n",
        "#contoh: 5 pangkat 2 sama dengan dua puluh lima\n",
        "# ** : lambang pangkat\n",
        "\n",
        "5**2"
      ]
    },
    {
      "cell_type": "code",
      "execution_count": null,
      "metadata": {
        "id": "seDkDKpYJnIL",
        "outputId": "279c6e5d-8e3a-4928-8f81-cfd92128f929"
      },
      "outputs": [
        {
          "data": {
            "text/plain": [
              "50"
            ]
          },
          "execution_count": 4,
          "metadata": {},
          "output_type": "execute_result"
        }
      ],
      "source": [
        "#operasi aritmatika\n",
        "#contoh: 2 dikali (5 pangkat 2) sama dengan lima puluh\n",
        "#bahasa python akan membaca sesuai urutan kaidah matematika\n",
        "#dalam contoh ini, meskipun kita tulis syntax perkalin terlebih dahulu\n",
        "#tetapi python akan menghitung operasi pangkat terlebih dahulu kemudian berlanjut ke operasi perkalian\n",
        "# * : lambang perkalian\n",
        "# ** : lambang pangkat\n",
        "\n",
        "2*5**2"
      ]
    },
    {
      "cell_type": "code",
      "execution_count": null,
      "metadata": {
        "id": "Ix7adrE0JnIL",
        "outputId": "5ee5be84-6075-4ca2-abad-3d3af2a0250d"
      },
      "outputs": [
        {
          "data": {
            "text/plain": [
              "2.75"
            ]
          },
          "execution_count": 5,
          "metadata": {},
          "output_type": "execute_result"
        }
      ],
      "source": [
        "#operasi aritmatika\n",
        "#contoh: 11 dibagi 4 sama dengan dua koma tujuh puluh lima\n",
        "# / : lambang pembagian\n",
        "\n",
        "11/4"
      ]
    },
    {
      "cell_type": "code",
      "execution_count": null,
      "metadata": {
        "id": "lPAekbugJnIM",
        "outputId": "b04750f0-b80c-4d6b-e307-1c8029caee65"
      },
      "outputs": [
        {
          "data": {
            "text/plain": [
              "2"
            ]
          },
          "execution_count": 6,
          "metadata": {},
          "output_type": "execute_result"
        }
      ],
      "source": [
        "#operasi aritmatika\n",
        "# // : lambang floor division \n",
        "#floor division adalah menampilkan bilangan bulatnya saja dari hasil pembagian\n",
        "#contoh: 11 floor division 4 sama dengan dua \n",
        "\n",
        "11//4"
      ]
    },
    {
      "cell_type": "code",
      "execution_count": null,
      "metadata": {
        "id": "XkS5VVy4JnIM",
        "outputId": "ce355e75-c86e-4ad2-fd3d-3f4679550a7d"
      },
      "outputs": [
        {
          "data": {
            "text/plain": [
              "3"
            ]
          },
          "execution_count": 7,
          "metadata": {},
          "output_type": "execute_result"
        }
      ],
      "source": [
        "#operasi aritmatika\n",
        "# % : lambang modulus\n",
        "#modulus adalah menampilkan sisa pembagian\n",
        "#contoh: 11 modulus 4 sama dengan tiga\n",
        "\n",
        "11%4"
      ]
    },
    {
      "cell_type": "markdown",
      "metadata": {
        "id": "u3jX_QCSJnIN"
      },
      "source": [
        "# Strings"
      ]
    },
    {
      "cell_type": "code",
      "execution_count": null,
      "metadata": {
        "id": "P7EZrTxzJnIN",
        "outputId": "66c1e4a3-5596-4f15-8dc4-dfb466c0a3e9"
      },
      "outputs": [
        {
          "data": {
            "text/plain": [
              "'apa kabar?'"
            ]
          },
          "execution_count": 8,
          "metadata": {},
          "output_type": "execute_result"
        }
      ],
      "source": [
        "#strings\n",
        "#strings adalah kumpulan dari karakter\n",
        "#gunakan tanda kutip untuk mendefinisikan string\n",
        "#boleh kutip double atau boleh kutip single\n",
        "#dengan catatan kutip pembuka dan kutip penutup harus sama\n",
        "# \" : lambang kutip double\n",
        "#contoh: \"apa kabar?\"\n",
        "\n",
        "\"apa kabar?\""
      ]
    },
    {
      "cell_type": "code",
      "execution_count": null,
      "metadata": {
        "id": "VkC7e-76JnIO",
        "outputId": "9702788d-f53d-46b1-86b5-7b6429c53c2c"
      },
      "outputs": [
        {
          "data": {
            "text/plain": [
              "'apa kabar?'"
            ]
          },
          "execution_count": 9,
          "metadata": {},
          "output_type": "execute_result"
        }
      ],
      "source": [
        "#strings\n",
        "# ' : lambang kutip single\n",
        "#contoh: 'apa kabar?'\n",
        "\n",
        "'apa kabar?'"
      ]
    },
    {
      "cell_type": "code",
      "execution_count": null,
      "metadata": {
        "id": "tWFzptQ2JnIO",
        "outputId": "cbc5bc3e-00eb-4f4d-fd34-55c647f9ed31"
      },
      "outputs": [
        {
          "data": {
            "text/plain": [
              "'balonku ada lima.\\nrupa-rupa warnanya. hijau, kuning, kelabu, merah muda, dan biru. \\nmeletus balon hijau, darr. hatiku sangat kacau.\\nbalonku tinggal empat. ku pegang erat-erat.'"
            ]
          },
          "execution_count": 10,
          "metadata": {},
          "output_type": "execute_result"
        }
      ],
      "source": [
        "#strings\n",
        "# \"\"\" : lambang triple quotes\n",
        "#triple quotes digunakan untuk string yang lebih dari satu baris\n",
        "#adapun output berupa backslash n adalah merupakan lambang baris baru\n",
        "# \\n : lambang baris baru\n",
        "\n",
        "#contoh: \"\"\" balonku ada lima. rupa-rupa warnanya. hijau, kuning, kelabu, merah muda, dan biru. meletus balon hijau, darr. hatiku sangat kacau. balonku tinggal empat. ku pegang erat-erat. \"\"\"\n",
        "\n",
        "\"\"\"balonku ada lima.\n",
        "rupa-rupa warnanya. hijau, kuning, kelabu, merah muda, dan biru. \n",
        "meletus balon hijau, darr. hatiku sangat kacau.\n",
        "balonku tinggal empat. ku pegang erat-erat.\"\"\""
      ]
    },
    {
      "cell_type": "code",
      "execution_count": null,
      "metadata": {
        "id": "XNEUV6BPJnIP",
        "outputId": "04baf975-56e9-4ae4-efd7-6598dca16097"
      },
      "outputs": [
        {
          "data": {
            "text/plain": [
              "'apa kabar'"
            ]
          },
          "execution_count": 11,
          "metadata": {},
          "output_type": "execute_result"
        }
      ],
      "source": [
        "#strings\n",
        "#perbedaan menggunakan keyword print dan tidak menggunakan keyword print\n",
        "#print itu keyword bahasa python untuk menampilkan sesuatu\n",
        "#bila tidak menggunakan keyword print maka mesin hanya akan membaca baris yang terakhir\n",
        "#contoh: bila kita tulis tanpa print\n",
        "#\"halo\" kemudian tulis di baris baru \"apa kabar?\"\n",
        "#maka output nya hanya akan muncul baris terakhir yaitu \"apa kabar?\"\n",
        "\n",
        "\"halo\"\n",
        "\"apa kabar\""
      ]
    },
    {
      "cell_type": "code",
      "execution_count": null,
      "metadata": {
        "id": "w1vMNMGoJnIP",
        "outputId": "257c0b68-32f5-46d9-e152-1ad3ec8a2ea7"
      },
      "outputs": [
        {
          "name": "stdout",
          "output_type": "stream",
          "text": [
            "halo\n",
            "apa kabar\n"
          ]
        }
      ],
      "source": [
        "#contoh: bila kita tulis menggunkan print\n",
        "#print(\"halo\") kemudian tulis di baris baru print(\"apa kabar?\")\n",
        "#maka output nya akan muncul tulisan dari semua baris \n",
        "\n",
        "print(\"halo\")\n",
        "print(\"apa kabar\")"
      ]
    },
    {
      "cell_type": "code",
      "execution_count": null,
      "metadata": {
        "id": "-WVDP513JnIP",
        "outputId": "803ed86a-01d1-41f0-e889-a9a712d40e45"
      },
      "outputs": [
        {
          "name": "stdout",
          "output_type": "stream",
          "text": [
            "'\n"
          ]
        }
      ],
      "source": [
        "# \\ : lambang slash untuk menampilkan escape karakter \n",
        "#contoh: untuk menampikan kutip single\n",
        "\n",
        "print(\"\\'\")"
      ]
    },
    {
      "cell_type": "code",
      "execution_count": null,
      "metadata": {
        "id": "3LYjTKZ4JnIP",
        "outputId": "0b6129dd-c5d5-42d2-a512-ca3f7cc188ea"
      },
      "outputs": [
        {
          "name": "stdout",
          "output_type": "stream",
          "text": [
            "\\\n"
          ]
        }
      ],
      "source": [
        "# \\ : lambang slash untuk menampilkan escape karakter \n",
        "#contoh: untuk menampikan lambang backslash\n",
        "\n",
        "print(\"\\\\\")"
      ]
    },
    {
      "cell_type": "markdown",
      "metadata": {
        "id": "_86cEDR9JnIQ"
      },
      "source": [
        "# Operasi Strings"
      ]
    },
    {
      "cell_type": "code",
      "execution_count": null,
      "metadata": {
        "id": "Pm6OhpasJnIQ",
        "outputId": "7b775d40-a26b-4c41-f7ae-19e4326c682d"
      },
      "outputs": [
        {
          "data": {
            "text/plain": [
              "'powerpoint'"
            ]
          },
          "execution_count": 15,
          "metadata": {},
          "output_type": "execute_result"
        }
      ],
      "source": [
        "#operasi strings\n",
        "#operasi penjumlahan string disebut dengan istilah concat atau penggabungan\n",
        "#dengan catatan penjumlahan nya harus antara string dengan string\n",
        "\n",
        "\"power\" + \"point\""
      ]
    },
    {
      "cell_type": "code",
      "execution_count": null,
      "metadata": {
        "id": "Qw0YL5awJnIQ",
        "outputId": "f071dc1a-3a2a-4a77-f67a-9c90900f264a"
      },
      "outputs": [
        {
          "data": {
            "text/plain": [
              "'53'"
            ]
          },
          "execution_count": 16,
          "metadata": {},
          "output_type": "execute_result"
        }
      ],
      "source": [
        "#operasi strings\n",
        "#contoh kita mau menulis '53'\n",
        "#tetapi '53' disini berupa string bukan berupa integer\n",
        "#ciri '53' disini berupa string adalah muncul nya tanda kutip\n",
        "\n",
        "'5'+'3'"
      ]
    },
    {
      "cell_type": "code",
      "execution_count": null,
      "metadata": {
        "id": "X-_RY2FRJnIQ",
        "outputId": "740eefdd-4d69-4c5d-b2f8-6aecbecd5410"
      },
      "outputs": [
        {
          "data": {
            "text/plain": [
              "str"
            ]
          },
          "execution_count": 17,
          "metadata": {},
          "output_type": "execute_result"
        }
      ],
      "source": [
        "#type: keyword yang digunakan untuk memeriksa type data\n",
        "#ketika kita periksa type data dari '53' maka akan muncul output str\n",
        "#str bermakna bahwa type data tersebut adalah string\n",
        "\n",
        "type('53')"
      ]
    },
    {
      "cell_type": "code",
      "execution_count": null,
      "metadata": {
        "id": "Oa33AiQaJnIR",
        "outputId": "ca7711b5-4d0b-47f3-c7e6-464c3d5e75bc"
      },
      "outputs": [
        {
          "data": {
            "text/plain": [
              "'abuabu'"
            ]
          },
          "execution_count": 19,
          "metadata": {},
          "output_type": "execute_result"
        }
      ],
      "source": [
        "#operasi strings\n",
        "#operasi perkalian string dimana pengali nya itu harus berupa bilangan bulat atau integer\n",
        "#output perkalian string akan menampilkan teks sebanyak jumlah pengali nya\n",
        "\n",
        "\"abu\" * 2"
      ]
    },
    {
      "cell_type": "code",
      "execution_count": null,
      "metadata": {
        "id": "6LDjGnbYJnIR",
        "outputId": "e3db9945-3224-418f-d1da-90c0cd456147"
      },
      "outputs": [
        {
          "name": "stdout",
          "output_type": "stream",
          "text": [
            "siapa nama kamu? :nama saya suwarti\n"
          ]
        },
        {
          "data": {
            "text/plain": [
              "'nama saya suwarti'"
            ]
          },
          "execution_count": 20,
          "metadata": {},
          "output_type": "execute_result"
        }
      ],
      "source": [
        "#input adalah memasukkan sesuatu dari user\n",
        "\n",
        "input(\"siapa nama kamu? :\")"
      ]
    },
    {
      "cell_type": "markdown",
      "metadata": {
        "id": "xgJ-dlM2JnIR"
      },
      "source": [
        "# Variables"
      ]
    },
    {
      "cell_type": "code",
      "execution_count": null,
      "metadata": {
        "id": "9sO0KaS4JnIR",
        "outputId": "ed94cc0e-31bd-492a-f9b9-c08523a51683"
      },
      "outputs": [
        {
          "name": "stdout",
          "output_type": "stream",
          "text": [
            "10.0\n"
          ]
        }
      ],
      "source": [
        "#variables\n",
        "#isi dari variable ini bisa berupa angka, string, atau boolean\n",
        "#notasi variabel bagian pertama tidak boleh berupa angka\n",
        "#misal 3x maka ini tidak boleh sebagai notasi variable karena akan menghasilkan output error\n",
        "#tetapi x3 ini boleh sebagai notasi variable\n",
        "#notasi variable juga tidak boleh menggunakan spasi\n",
        "#bila ingin memisahkan dua huruf variable maka bisa menggunakan underscore\n",
        "\n",
        "x1 = 2\n",
        "x2 = 3\n",
        "x3 = 5.0\n",
        "x4 = 'prima'\n",
        "x5 = True\n",
        "\n",
        "print(x1 + x2 +x3)"
      ]
    },
    {
      "cell_type": "code",
      "execution_count": null,
      "metadata": {
        "id": "1GheYvc-JnIR",
        "outputId": "f7ce8ce1-cfe0-4025-f58b-08800eae82f5"
      },
      "outputs": [
        {
          "data": {
            "text/plain": [
              "bool"
            ]
          },
          "execution_count": 22,
          "metadata": {},
          "output_type": "execute_result"
        }
      ],
      "source": [
        "#gunakan type untuk memeriksa type data\n",
        "\n",
        "type(x5)"
      ]
    },
    {
      "cell_type": "code",
      "execution_count": null,
      "metadata": {
        "id": "x3vsZpXBJnIR",
        "outputId": "57099812-8db5-48da-b6a3-72a66b3a0a5e"
      },
      "outputs": [
        {
          "name": "stdout",
          "output_type": "stream",
          "text": [
            "masukan angka pertama :10\n",
            "masukan angka kedua :5\n",
            "105\n"
          ]
        }
      ],
      "source": [
        "#variable menggunakan input\n",
        "#catatan hasil dari input itu pasti berupa string\n",
        "#jika ingin menghasilkan berupa angka maka mesti menuliskan keyword angka nya\n",
        "\n",
        "angka_1 = input(\"masukan angka pertama :\")\n",
        "angka_2 = input(\"masukan angka kedua :\")\n",
        "\n",
        "print(angka_1 + angka_2)"
      ]
    },
    {
      "cell_type": "code",
      "execution_count": null,
      "metadata": {
        "id": "N0l-rLmZJnIS",
        "outputId": "f9395185-4eb1-4152-d5b0-ebc7d61c9407"
      },
      "outputs": [
        {
          "name": "stdout",
          "output_type": "stream",
          "text": [
            "masukan angka pertama :10\n",
            "masukan angka kedua :5\n",
            "15.0\n"
          ]
        }
      ],
      "source": [
        "#variable menggunakan input\n",
        "#jika ingin menghasilkan berupa angka maka mesti menuliskan keyword angka nya\n",
        "\n",
        "angka_1 = input(\"masukan angka pertama :\")\n",
        "angka_1 = int(angka_1)\n",
        "angka_2 = input(\"masukan angka kedua :\")\n",
        "angka_2 = float(angka_2)\n",
        "\n",
        "print(angka_1 + angka_2)"
      ]
    },
    {
      "cell_type": "markdown",
      "metadata": {
        "id": "KO8LkmYXJnIS"
      },
      "source": [
        "# Dictionary "
      ]
    },
    {
      "cell_type": "code",
      "execution_count": null,
      "metadata": {
        "id": "RNKZVBgxJnIS"
      },
      "outputs": [],
      "source": [
        "#dictionary \n",
        "#dictionary itu untuk menyimpan lebih dari satu data (data majemuk) ke dalam sebuah variable\n",
        "#key adalah bagian sebelum tanda titik dua dan value adalah bagian setelah tanda titik dua\n",
        "\n",
        "my_dict = {'Nama':'Nam Do San', \n",
        "           'Usia': 17, \n",
        "           'Pekerjaan':'Developer',\n",
        "           'Alamat': {'Jalan':'Sandbox',\n",
        "                      'RT': '005',\n",
        "                      'RW':'031'}}"
      ]
    },
    {
      "cell_type": "code",
      "execution_count": null,
      "metadata": {
        "id": "xBz4rNSaJnIS",
        "outputId": "f64b136a-c03a-4ea2-be7e-8cbffc4ddbe2"
      },
      "outputs": [
        {
          "data": {
            "text/plain": [
              "17"
            ]
          },
          "execution_count": 26,
          "metadata": {},
          "output_type": "execute_result"
        }
      ],
      "source": [
        "#gunakan key nya untuk memanggil value nya \n",
        "\n",
        "my_dict['Usia']"
      ]
    },
    {
      "cell_type": "code",
      "execution_count": null,
      "metadata": {
        "id": "mUDOlbNTJnIS",
        "outputId": "7337098e-fca2-4096-efec-fdba5f4c9ead"
      },
      "outputs": [
        {
          "data": {
            "text/plain": [
              "int"
            ]
          },
          "execution_count": 27,
          "metadata": {},
          "output_type": "execute_result"
        }
      ],
      "source": [
        "type(my_dict['Usia'])"
      ]
    },
    {
      "cell_type": "code",
      "execution_count": null,
      "metadata": {
        "id": "_LSaaj_fJnIS",
        "outputId": "7a2d9e7b-aefb-4566-f351-bc7e2852b51f"
      },
      "outputs": [
        {
          "data": {
            "text/plain": [
              "'005'"
            ]
          },
          "execution_count": 28,
          "metadata": {},
          "output_type": "execute_result"
        }
      ],
      "source": [
        "my_dict['Alamat']['RT']"
      ]
    },
    {
      "cell_type": "markdown",
      "metadata": {
        "id": "y_HLHfaCJnIT"
      },
      "source": [
        "# List"
      ]
    },
    {
      "cell_type": "code",
      "execution_count": null,
      "metadata": {
        "id": "IiPAKagmJnIT"
      },
      "outputs": [],
      "source": [
        "#list\n",
        "#list itu sama dengan dictionary tapi dia hanya menyimpan value nya saja\n",
        "#cara memanggil value dalam list ini dengan cara memanggil urutan nya\n",
        "#catatan bahwa indeks di python itu dimulai dari nol"
      ]
    },
    {
      "cell_type": "code",
      "execution_count": null,
      "metadata": {
        "id": "0fCpiIl8JnIT"
      },
      "outputs": [],
      "source": [
        "my_list = ['Nam Do San', 17, {'Pekerjaan':'Developer'}, [18,19,20]]"
      ]
    },
    {
      "cell_type": "code",
      "execution_count": null,
      "metadata": {
        "id": "2hJsGHcUJnIT",
        "outputId": "75bf14cd-f915-47fd-fef7-dbe36246c8e5"
      },
      "outputs": [
        {
          "name": "stdout",
          "output_type": "stream",
          "text": [
            "Nam Do San\n",
            "17\n",
            "{'Pekerjaan': 'Developer'}\n",
            "[18, 19, 20]\n"
          ]
        }
      ],
      "source": [
        "print(my_list[0])\n",
        "print(my_list[1])\n",
        "print(my_list[2])\n",
        "print(my_list[3])"
      ]
    },
    {
      "cell_type": "code",
      "execution_count": null,
      "metadata": {
        "id": "Gr2sQjXdJnIT",
        "outputId": "ee55e5bd-326d-456a-c1a6-f877c2331db4"
      },
      "outputs": [
        {
          "name": "stdout",
          "output_type": "stream",
          "text": [
            "18\n"
          ]
        }
      ],
      "source": [
        "print(my_list[3][0])"
      ]
    },
    {
      "cell_type": "code",
      "execution_count": null,
      "metadata": {
        "id": "5NgE_WtXJnIT",
        "outputId": "87fc1085-ea51-4191-afba-b3c4f7e4da89"
      },
      "outputs": [
        {
          "name": "stdout",
          "output_type": "stream",
          "text": [
            "[18, 19, 20]\n"
          ]
        }
      ],
      "source": [
        "#gunakan indeks minus satu untuk memanggil value list dari urutan yg paling belakang\n",
        "\n",
        "print(my_list[-1])"
      ]
    },
    {
      "cell_type": "code",
      "execution_count": null,
      "metadata": {
        "id": "0EIw9B5tJnIT",
        "outputId": "21503122-1eed-46c9-f923-8afb44de2e56"
      },
      "outputs": [
        {
          "data": {
            "text/plain": [
              "4"
            ]
          },
          "execution_count": 33,
          "metadata": {},
          "output_type": "execute_result"
        }
      ],
      "source": [
        "#gunakan keyword len untuk mencari tahu jumlah elemen dalam list\n",
        "\n",
        "len(my_list)"
      ]
    },
    {
      "cell_type": "markdown",
      "metadata": {
        "id": "h-81LLjeJnIU"
      },
      "source": [
        "# Boolean"
      ]
    },
    {
      "cell_type": "code",
      "execution_count": null,
      "metadata": {
        "id": "9Synq7ufJnIU",
        "outputId": "bc3d6556-eaf8-4e85-dca2-ed2644cd41d3"
      },
      "outputs": [
        {
          "data": {
            "text/plain": [
              "False"
            ]
          },
          "execution_count": 34,
          "metadata": {},
          "output_type": "execute_result"
        }
      ],
      "source": [
        "#operator perbandingan\n",
        "# == : lambang operator perbandingan\n",
        "#output berupa boolean\n",
        "#contoh: 2 == 3 dibaca 2 sama dengan 3 maka pernyataan tersebut salah\n",
        "\n",
        "2 == 3"
      ]
    },
    {
      "cell_type": "code",
      "execution_count": null,
      "metadata": {
        "id": "XtW8A6QoJnIU",
        "outputId": "a98483f3-5dd2-41db-d9e4-4cc047c7da27"
      },
      "outputs": [
        {
          "data": {
            "text/plain": [
              "False"
            ]
          },
          "execution_count": 35,
          "metadata": {},
          "output_type": "execute_result"
        }
      ],
      "source": [
        "#contoh: 2 > 5 dibaca 2 lebih besar dari 5 maka pernyataan tersebut salah\n",
        "\n",
        "2 > 5"
      ]
    },
    {
      "cell_type": "code",
      "execution_count": null,
      "metadata": {
        "id": "UdFjRJ-JJnIU",
        "outputId": "caffa189-620d-4a3a-a356-8209f8fa4d96"
      },
      "outputs": [
        {
          "data": {
            "text/plain": [
              "True"
            ]
          },
          "execution_count": 36,
          "metadata": {},
          "output_type": "execute_result"
        }
      ],
      "source": [
        "#contoh: 2 <= 2 dibaca 2 kurang dari sama dengan 2 maka pernyataan tersebut benar\n",
        "\n",
        "2 <= 2"
      ]
    },
    {
      "cell_type": "code",
      "execution_count": null,
      "metadata": {
        "id": "diKTx1QlJnIU"
      },
      "outputs": [],
      "source": [
        "#catatan\n",
        "#lambang = tidak bermakna sama dengan lambang ==\n",
        "# = : lambang ini digunakan untuk memasukkan suatu nilai dalam sebuah variable\n",
        "## == : lambang ini digunakan untuk operator perbandingan"
      ]
    },
    {
      "cell_type": "markdown",
      "metadata": {
        "id": "d5XHJ_QuJnIU"
      },
      "source": [
        "# Boolean Logic"
      ]
    },
    {
      "cell_type": "code",
      "execution_count": null,
      "metadata": {
        "id": "3NZoOsFFJnIU"
      },
      "outputs": [],
      "source": [
        "#Pernyataan Benar dan pernyataan Benar maka output nya pernyataan Benar\n",
        "#Pernyataan Benar dan pernyataan Salah maka output nya pernyataan Salah\n",
        "#Pernyataan Benar atau pernyataan Benar maka output nya pernyataan Benar\n",
        "#Pernyataan Benar atau pernyataan Salah maka output nya pernyataan Benar"
      ]
    },
    {
      "cell_type": "code",
      "execution_count": null,
      "metadata": {
        "id": "Q7i_KZ9pJnIV",
        "outputId": "de88b45e-8d3a-4295-9a36-7e97ac661e21"
      },
      "outputs": [
        {
          "data": {
            "text/plain": [
              "True"
            ]
          },
          "execution_count": 37,
          "metadata": {},
          "output_type": "execute_result"
        }
      ],
      "source": [
        "1 == 1 and 2 == 2"
      ]
    },
    {
      "cell_type": "code",
      "execution_count": null,
      "metadata": {
        "id": "zEj65TAeJnIV",
        "outputId": "72104ef3-d899-4d61-de88-bd0e6bb0f938"
      },
      "outputs": [
        {
          "data": {
            "text/plain": [
              "False"
            ]
          },
          "execution_count": 38,
          "metadata": {},
          "output_type": "execute_result"
        }
      ],
      "source": [
        "1 == 1 and 2 == 1"
      ]
    },
    {
      "cell_type": "code",
      "execution_count": null,
      "metadata": {
        "id": "UXmFuh7kJnIV",
        "outputId": "263b8f35-89da-4140-8a44-dd5c2a6db408"
      },
      "outputs": [
        {
          "data": {
            "text/plain": [
              "True"
            ]
          },
          "execution_count": 39,
          "metadata": {},
          "output_type": "execute_result"
        }
      ],
      "source": [
        "1 == 1 or 2 == 2"
      ]
    },
    {
      "cell_type": "code",
      "execution_count": null,
      "metadata": {
        "id": "ZhpvlnxbJnIV",
        "outputId": "bdcf4e1e-de41-4ce0-bc07-d58ef2786b55"
      },
      "outputs": [
        {
          "data": {
            "text/plain": [
              "True"
            ]
          },
          "execution_count": 40,
          "metadata": {},
          "output_type": "execute_result"
        }
      ],
      "source": [
        "1 == 1 or 2 == 1"
      ]
    },
    {
      "cell_type": "markdown",
      "metadata": {
        "id": "243wvRW8JnIV"
      },
      "source": [
        "# If Statement"
      ]
    },
    {
      "cell_type": "code",
      "execution_count": null,
      "metadata": {
        "id": "mD7tnPivJnIV"
      },
      "outputs": [],
      "source": [
        "#bila ada dua kondisi maka cukup gunakan if dan else\n",
        "#namun bila ada lebih dari dua kondisi maka tambahkan dengan elif\n",
        "#penulisan statement yaitu dengan cara indentation menjorok ke dalam"
      ]
    },
    {
      "cell_type": "code",
      "execution_count": null,
      "metadata": {
        "id": "ECDb0H2_JnIV",
        "outputId": "8446c907-2076-4314-d726-cc85485dbbfe"
      },
      "outputs": [
        {
          "name": "stdout",
          "output_type": "stream",
          "text": [
            "a lebih kecil dari 3\n"
          ]
        }
      ],
      "source": [
        "a = 1\n",
        "if a > 3:\n",
        "    print(\"a lebih besar dari 3\") \n",
        "elif a == 3:\n",
        "    print(\"a sama dengan dari 3\") \n",
        "else:\n",
        "    print(\"a lebih kecil dari 3\")"
      ]
    },
    {
      "cell_type": "code",
      "execution_count": null,
      "metadata": {
        "id": "9vdqr6g3JnIW",
        "outputId": "31c586fa-d3d9-483a-be1c-2c8024ad5e53"
      },
      "outputs": [
        {
          "name": "stdout",
          "output_type": "stream",
          "text": [
            "a lebih besar dari 3\n"
          ]
        }
      ],
      "source": [
        "a = 5\n",
        "if a > 3:\n",
        "    print(\"a lebih besar dari 3\") \n",
        "elif a == 3:\n",
        "    print(\"a sama dengan dari 3\") \n",
        "else:\n",
        "    print(\"a lebih kecil dari 3\")"
      ]
    },
    {
      "cell_type": "code",
      "execution_count": null,
      "metadata": {
        "id": "q4pYB-VcJnIW",
        "outputId": "3514baa9-b79f-479d-ec15-87b5daa81d37"
      },
      "outputs": [
        {
          "name": "stdout",
          "output_type": "stream",
          "text": [
            "a sama dengan dari 3\n"
          ]
        }
      ],
      "source": [
        "a = 3\n",
        "if a > 3:\n",
        "    print(\"a lebih besar dari 3\") \n",
        "elif a == 3:\n",
        "    print(\"a sama dengan dari 3\") \n",
        "else:\n",
        "    print(\"a lebih kecil dari 3\")"
      ]
    },
    {
      "cell_type": "markdown",
      "metadata": {
        "id": "_LqvF1vRJnIW"
      },
      "source": [
        "# While Loops"
      ]
    },
    {
      "cell_type": "code",
      "execution_count": null,
      "metadata": {
        "id": "LMdRYFkFJnIW",
        "outputId": "e3167535-8f5d-4c2c-b6eb-e964c98cf16e"
      },
      "outputs": [
        {
          "name": "stdout",
          "output_type": "stream",
          "text": [
            "Bemain Game, Sisa nyawa:  5\n",
            "Kena Musuh\n",
            "Bemain Game, Sisa nyawa:  4\n",
            "Kena Musuh\n",
            "Bemain Game, Sisa nyawa:  3\n",
            "Kena Musuh\n",
            "Bemain Game, Sisa nyawa:  2\n",
            "Kena Musuh\n",
            "Bemain Game, Sisa nyawa:  1\n",
            "Kena Musuh\n",
            "Game Over\n"
          ]
        }
      ],
      "source": [
        "#contoh kasus bermain game\n",
        "\n",
        "nyawa = 5\n",
        "while nyawa > 0:\n",
        "    print(\"Bemain Game, Sisa nyawa: \", nyawa)\n",
        "    print(\"Kena Musuh\")\n",
        "    nyawa = nyawa - 1\n",
        "print(\"Game Over\")"
      ]
    },
    {
      "cell_type": "code",
      "execution_count": null,
      "metadata": {
        "id": "Oq7xfyM5JnIX",
        "outputId": "a17422c0-12b3-4ee6-a132-1c4ec9f726e4"
      },
      "outputs": [
        {
          "name": "stdout",
          "output_type": "stream",
          "text": [
            "1\n",
            "2\n"
          ]
        }
      ],
      "source": [
        "#break adalah memberhentikan secara paksa di kondisi tertentu\n",
        "\n",
        "i = 0\n",
        "while i < 10:\n",
        "    i = i + 1\n",
        "    if i == 3:\n",
        "        break\n",
        "    print(i)"
      ]
    },
    {
      "cell_type": "code",
      "execution_count": null,
      "metadata": {
        "id": "P73t-B-AJnIX",
        "outputId": "77afb853-f4ff-45fd-ebb7-209bdf4d7060"
      },
      "outputs": [
        {
          "name": "stdout",
          "output_type": "stream",
          "text": [
            "1\n",
            "2\n",
            "4\n",
            "5\n",
            "6\n",
            "7\n",
            "8\n",
            "9\n",
            "10\n"
          ]
        }
      ],
      "source": [
        "#continue adalah menskip kondisi tertentu\n",
        "\n",
        "i = 0\n",
        "while i < 10:\n",
        "    i = i + 1\n",
        "    if i == 3:\n",
        "        continue\n",
        "    print(i)"
      ]
    },
    {
      "cell_type": "markdown",
      "metadata": {
        "id": "bWewG-SyJnIX"
      },
      "source": [
        "# For Loop"
      ]
    },
    {
      "cell_type": "code",
      "execution_count": null,
      "metadata": {
        "id": "dw4RDyWTJnIX"
      },
      "outputs": [],
      "source": [
        "#for loop menggunakan tipe data majemuk"
      ]
    },
    {
      "cell_type": "code",
      "execution_count": null,
      "metadata": {
        "id": "OpzzuaKAJnIX",
        "outputId": "9a3ea55f-af94-485d-8d52-e9e952c5b2eb"
      },
      "outputs": [
        {
          "name": "stdout",
          "output_type": "stream",
          "text": [
            "saya pesan Mie Ayam\n",
            "saya pesan Nasi Goreng\n",
            "saya pesan Es Teh\n"
          ]
        }
      ],
      "source": [
        "pesanan = ['Mie Ayam', 'Nasi Goreng', 'Es Teh']\n",
        "print(\"saya pesan\", pesanan[0])\n",
        "print(\"saya pesan\", pesanan[1])\n",
        "print(\"saya pesan\", pesanan[2])"
      ]
    },
    {
      "cell_type": "code",
      "execution_count": null,
      "metadata": {
        "id": "UTpeU2qWJnIY",
        "outputId": "c6d3c9ba-9926-4bd6-c9a5-393c05f56476"
      },
      "outputs": [
        {
          "name": "stdout",
          "output_type": "stream",
          "text": [
            "saya pesan Mie Ayam\n",
            "saya pesan Nasi Goreng\n",
            "saya pesan Es Teh\n"
          ]
        }
      ],
      "source": [
        "i=0\n",
        "while i < len(pesanan):\n",
        "    print(\"saya pesan\", pesanan[i])\n",
        "    i=i+1"
      ]
    },
    {
      "cell_type": "code",
      "execution_count": null,
      "metadata": {
        "id": "fY1m7nQGJnIY",
        "outputId": "cb10b63a-43b9-427f-ab3b-5a9ddb069810"
      },
      "outputs": [
        {
          "name": "stdout",
          "output_type": "stream",
          "text": [
            "saya pesan Mie Ayam\n",
            "saya pesan Nasi Goreng\n",
            "saya pesan Es Teh\n"
          ]
        }
      ],
      "source": [
        "for item in pesanan:\n",
        "    print('saya pesan', item)"
      ]
    },
    {
      "cell_type": "markdown",
      "metadata": {
        "id": "A5m1BUzXJnIY"
      },
      "source": [
        "# Functions"
      ]
    },
    {
      "cell_type": "code",
      "execution_count": null,
      "metadata": {
        "id": "82QajQPbJnIZ",
        "outputId": "6215016d-686c-49d6-ecee-f9a27448bd7e"
      },
      "outputs": [
        {
          "name": "stdout",
          "output_type": "stream",
          "text": [
            "Halo Han Ji Pyeong, apa kabar?\n",
            "Halo Soe Dal Mi, apa kabar?\n",
            "Halo Suwarti, apa kabar?\n"
          ]
        }
      ],
      "source": [
        "print(\"Halo Han Ji Pyeong, apa kabar?\")\n",
        "print(\"Halo Soe Dal Mi, apa kabar?\")\n",
        "print(\"Halo Suwarti, apa kabar?\")"
      ]
    },
    {
      "cell_type": "code",
      "execution_count": null,
      "metadata": {
        "id": "ZJ15GXpTJnIZ"
      },
      "outputs": [],
      "source": [
        "#arguments\n",
        "\n",
        "def sapa_nama(nama):\n",
        "    print(\"Halo {}, apa kabar?\".format(nama))\n",
        "    print(\"Semangat ya ^^\")"
      ]
    },
    {
      "cell_type": "code",
      "execution_count": null,
      "metadata": {
        "id": "Dso4ld0LJnIZ",
        "outputId": "b851d5d9-6e96-4cac-cad7-38b12d8d2143"
      },
      "outputs": [
        {
          "name": "stdout",
          "output_type": "stream",
          "text": [
            "Halo Han Ji Pyeong, apa kabar?\n",
            "Semangat ya ^^\n"
          ]
        }
      ],
      "source": [
        "sapa_nama(\"Han Ji Pyeong\")"
      ]
    },
    {
      "cell_type": "markdown",
      "metadata": {
        "id": "KloLhABtJnIZ"
      },
      "source": [
        "# Returns"
      ]
    },
    {
      "cell_type": "code",
      "execution_count": null,
      "metadata": {
        "id": "oaV1UAZuJnIZ"
      },
      "outputs": [],
      "source": [
        "#returns\n",
        "\n",
        "def tambah_return(a,b):\n",
        "    return a+b"
      ]
    },
    {
      "cell_type": "code",
      "execution_count": null,
      "metadata": {
        "id": "sjdzZhl_JnIZ",
        "outputId": "866ae5ef-d8d4-4ae9-fcbe-2b403b524aa0"
      },
      "outputs": [
        {
          "data": {
            "text/plain": [
              "5"
            ]
          },
          "execution_count": 55,
          "metadata": {},
          "output_type": "execute_result"
        }
      ],
      "source": [
        "tambah_return(2,3)"
      ]
    },
    {
      "cell_type": "code",
      "execution_count": null,
      "metadata": {
        "id": "1weJsutOJnIa"
      },
      "outputs": [],
      "source": [
        "hasil = tambah_return(2,3)"
      ]
    },
    {
      "cell_type": "code",
      "execution_count": null,
      "metadata": {
        "id": "4Jy8LfofJnIa",
        "outputId": "64de1d3a-e28d-43de-82b1-3b7316d24d25"
      },
      "outputs": [
        {
          "data": {
            "text/plain": [
              "5"
            ]
          },
          "execution_count": 57,
          "metadata": {},
          "output_type": "execute_result"
        }
      ],
      "source": [
        "hasil"
      ]
    },
    {
      "cell_type": "code",
      "execution_count": null,
      "metadata": {
        "id": "BTPwJdHuJnIa",
        "outputId": "be0db641-3044-4b3d-ad5e-59aadd4582df"
      },
      "outputs": [
        {
          "data": {
            "text/plain": [
              "15"
            ]
          },
          "execution_count": 58,
          "metadata": {},
          "output_type": "execute_result"
        }
      ],
      "source": [
        "hasil +10"
      ]
    },
    {
      "cell_type": "markdown",
      "metadata": {
        "id": "AIFqxxUOJnIa"
      },
      "source": [
        "# Sekian\n",
        "\n",
        "Sekian dulu ya untuk sedikit sharing2 kali ini.. terima kasih ^^"
      ]
    },
    {
      "cell_type": "code",
      "execution_count": null,
      "metadata": {
        "id": "OugU09xWJnIa"
      },
      "outputs": [],
      "source": []
    }
  ],
  "metadata": {
    "kernelspec": {
      "display_name": "Python 3",
      "language": "python",
      "name": "python3"
    },
    "language_info": {
      "codemirror_mode": {
        "name": "ipython",
        "version": 3
      },
      "file_extension": ".py",
      "mimetype": "text/x-python",
      "name": "python",
      "nbconvert_exporter": "python",
      "pygments_lexer": "ipython3",
      "version": "3.7.6"
    },
    "colab": {
      "provenance": [],
      "include_colab_link": true
    }
  },
  "nbformat": 4,
  "nbformat_minor": 0
}