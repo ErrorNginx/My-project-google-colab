{
  "cells": [
    {
      "cell_type": "markdown",
      "metadata": {
        "id": "view-in-github",
        "colab_type": "text"
      },
      "source": [
        "<a href=\"https://colab.research.google.com/github/ErrorNginx/My-project-google-colab/blob/main/Instagram_Scraper/Instagram_Scraper.ipynb\" target=\"_parent\"><img src=\"https://colab.research.google.com/assets/colab-badge.svg\" alt=\"Open In Colab\"/></a>"
      ]
    },
    {
      "cell_type": "code",
      "execution_count": null,
      "metadata": {
        "id": "HzKo5NK19PFE"
      },
      "outputs": [],
      "source": [
        "from selenium import webdriver\n",
        "import pandas as pd\n",
        "import os\n",
        "import itertools\n",
        "import time\n",
        "import numpy as np\n",
        "from datetime import datetime"
      ]
    },
    {
      "cell_type": "code",
      "execution_count": null,
      "metadata": {
        "id": "rG3SLfiz9PFF"
      },
      "outputs": [],
      "source": [
        "url = 'https://www.instagram.com/'"
      ]
    },
    {
      "cell_type": "code",
      "execution_count": null,
      "metadata": {
        "id": "hMxHXlTD9PFG"
      },
      "outputs": [],
      "source": [
        "path = os.getcwd()+'/geckodriver'\n",
        "driver = webdriver.Firefox(executable_path=path)\n",
        "driver.get(url)\n",
        "time.sleep(10)"
      ]
    },
    {
      "cell_type": "code",
      "execution_count": null,
      "metadata": {
        "id": "CX08IX-W9PFH"
      },
      "outputs": [],
      "source": [
        "def login(username,password,driver):\n",
        "    #driver.find_element_by_link_text(\"Log In\").click()\n",
        "    #time.sleep(5)\n",
        "    u_input = driver.find_element_by_css_selector(\"input[name='username']\")\n",
        "    u_input.send_keys(username)\n",
        "    p_input = driver.find_element_by_css_selector(\"input[name='password']\")\n",
        "    p_input.send_keys(password)\n",
        "\n",
        "    driver.find_element_by_class_name(\"L3NKy\").click()\n",
        "    time.sleep(3)\n",
        "    #driver.find_element_by_class_name(\"aOOlW\").click()"
      ]
    },
    {
      "cell_type": "code",
      "execution_count": null,
      "metadata": {
        "id": "JxOQEj4H9PFH"
      },
      "outputs": [],
      "source": [
        "from selenium import webdriver\n",
        "from selenium.common.exceptions import NoSuchElementException\n",
        "from selenium.common.exceptions import TimeoutException\n",
        "from selenium.webdriver.chrome.options import Options\n",
        "from selenium.webdriver.common.by import By\n",
        "from selenium.webdriver.support import expected_conditions as EC\n",
        "from selenium.webdriver.support.ui import WebDriverWait\n",
        "from selenium.webdriver.common.keys import Keys\n",
        "\n",
        "def find_one(driver, css_selector, elem=None, waittime=0):\n",
        "    obj = elem or driver\n",
        "\n",
        "    if waittime:\n",
        "        WebDriverWait(obj, waittime).until(\n",
        "            EC.presence_of_element_located((By.CSS_SELECTOR, css_selector))\n",
        "        )\n",
        "\n",
        "    try:\n",
        "        return obj.find_element(By.CSS_SELECTOR, css_selector)\n",
        "    except NoSuchElementException:\n",
        "        return None\n",
        "    \n",
        "def find(driver, css_selector, elem=None, waittime=0):\n",
        "    obj = elem or driver\n",
        "    try:\n",
        "        if waittime:\n",
        "            WebDriverWait(obj, waittime).until(\n",
        "                EC.presence_of_element_located((By.CSS_SELECTOR, css_selector))\n",
        "            )\n",
        "    except TimeoutException:\n",
        "        return None\n",
        "\n",
        "    try:\n",
        "        return obj.find_elements(By.CSS_SELECTOR, css_selector)\n",
        "    except NoSuchElementException:\n",
        "        return None\n",
        "    \n",
        "def fetch_caption(browser):\n",
        "    caps = []\n",
        "    ele_comments = find(driver,\".eo2As .gElp9\")\n",
        "\n",
        "    if len(ele_comments) > 0:\n",
        "\n",
        "        temp_element = find(driver,\"span\",ele_comments[0])\n",
        "\n",
        "        for element in temp_element:\n",
        "\n",
        "            if element.text not in ['Verified','']:\n",
        "                caps.append(element.text)\n",
        "                print(element.text)\n",
        "        print(caps)\n",
        "    return caps\n",
        "\n"
      ]
    },
    {
      "cell_type": "code",
      "execution_count": null,
      "metadata": {
        "id": "FO4rMZu29PFI"
      },
      "outputs": [],
      "source": [
        "def search(keyword,driver):\n",
        "    driver.get(url+'explore/tags/'+keyword)\n",
        "\n",
        "def get_caps(driver,num):\n",
        "    lst = []\n",
        "    driver.find_element_by_class_name(\"v1Nh3\").click()\n",
        "    time.sleep(2)\n",
        "    #next_button = driver.find_element_by_class_name(\"HBoOv.coreSpriteRightPaginationArrow\")\n",
        "    next_button = driver.find_element_by_class_name(\"_65Bje.coreSpriteRightPaginationArrow\")\n",
        "    for i in range(num):\n",
        "        try :\n",
        "            #WebDriverWait(driver, 10).until(EC.presence_of_element_located((By.CSS_SELECTOR, \".eo2As .gElp9\")))\n",
        "            WebDriverWait(driver, 10).until(EC.presence_of_element_located((By.CSS_SELECTOR, \"li.gElp9.rUo9f.PpGvg\")))\n",
        "            print(\"getin\")\n",
        "        \n",
        "        except:\n",
        "            pass\n",
        "            #next_button.click()\n",
        "            \n",
        "        lst.append(fetch_caption(driver))\n",
        "        next_button.click()\n",
        "    return lst"
      ]
    },
    {
      "cell_type": "code",
      "execution_count": null,
      "metadata": {
        "id": "9Q-gHTPb9PFI"
      },
      "outputs": [],
      "source": [
        "username = input('input username :')\n",
        "password = input('input password :')\n",
        "login(username,password,driver)\n"
      ]
    },
    {
      "cell_type": "code",
      "execution_count": null,
      "metadata": {
        "id": "QI37ra-L9PFI"
      },
      "outputs": [],
      "source": [
        "search('umkm',driver)\n",
        "\n",
        "#search('#umkm',driver)\n",
        "caps_1000 = get_caps(driver,100)"
      ]
    },
    {
      "cell_type": "code",
      "execution_count": null,
      "metadata": {
        "id": "usZ-YpzH9PFJ"
      },
      "outputs": [],
      "source": [
        "# search('#umkm',driver)\n",
        "# caps_1000 = get_caps(driver,100)"
      ]
    },
    {
      "cell_type": "code",
      "source": [
        "caps_1000"
      ],
      "metadata": {
        "id": "HGF4Q4uc-DlN"
      },
      "execution_count": null,
      "outputs": []
    },
    {
      "cell_type": "code",
      "execution_count": null,
      "metadata": {
        "id": "LFwBvK5K9PFK"
      },
      "outputs": [],
      "source": [
        "df = pd.DataFrame(caps_1000)\n",
        "df.info()"
      ]
    },
    {
      "cell_type": "code",
      "execution_count": null,
      "metadata": {
        "id": "s9X-DSE39PFK"
      },
      "outputs": [],
      "source": [
        "# df.to_csv('umkm_1_1.2.csv')"
      ]
    },
    {
      "cell_type": "code",
      "execution_count": null,
      "metadata": {
        "id": "EsljZRg99PFK"
      },
      "outputs": [],
      "source": []
    }
  ],
  "metadata": {
    "kernelspec": {
      "display_name": "Python 3",
      "language": "python",
      "name": "python3"
    },
    "language_info": {
      "codemirror_mode": {
        "name": "ipython",
        "version": 3
      },
      "file_extension": ".py",
      "mimetype": "text/x-python",
      "name": "python",
      "nbconvert_exporter": "python",
      "pygments_lexer": "ipython3",
      "version": "3.7.6"
    },
    "colab": {
      "provenance": [],
      "include_colab_link": true
    }
  },
  "nbformat": 4,
  "nbformat_minor": 0
}