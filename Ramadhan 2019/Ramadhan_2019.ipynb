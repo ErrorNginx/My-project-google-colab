{
  "cells": [
    {
      "cell_type": "markdown",
      "metadata": {
        "id": "view-in-github",
        "colab_type": "text"
      },
      "source": [
        "<a href=\"https://colab.research.google.com/github/ErrorNginx/My-project-google-colab/blob/development/Ramadhan%202019/Ramadhan_2019.ipynb\" target=\"_parent\"><img src=\"https://colab.research.google.com/assets/colab-badge.svg\" alt=\"Open In Colab\"/></a>"
      ]
    },
    {
      "cell_type": "code",
      "execution_count": null,
      "metadata": {
        "id": "dzlygqY1U6aL"
      },
      "outputs": [],
      "source": [
        "import pandas as pd\n",
        "import matplotlib.pyplot as plt\n",
        "\n",
        "import datetime\n",
        "import random\n",
        "from matplotlib.sankey import Sankey"
      ]
    },
    {
      "cell_type": "code",
      "execution_count": null,
      "metadata": {
        "id": "7fPDl4WsU6aP"
      },
      "outputs": [],
      "source": [
        "import seaborn as sns"
      ]
    },
    {
      "cell_type": "code",
      "execution_count": null,
      "metadata": {
        "id": "-Gnq7lEmU6aQ"
      },
      "outputs": [],
      "source": [
        "plt.rcParams['figure.figsize'] = (3,3.5) \n",
        "plt.rcParams[\"figure.dpi\"] = 80 "
      ]
    },
    {
      "cell_type": "code",
      "execution_count": null,
      "metadata": {
        "id": "hmnM8_RcU6aQ"
      },
      "outputs": [],
      "source": [
        "lokasi = pd.read_csv('catatan_lokasi.csv')\n",
        "profil = pd.read_csv('data_profil.csv')"
      ]
    },
    {
      "cell_type": "code",
      "execution_count": null,
      "metadata": {
        "id": "ZVaP53N9U6aR",
        "outputId": "34767624-fa75-4301-f6f1-736b7e855d5d"
      },
      "outputs": [
        {
          "name": "stdout",
          "output_type": "stream",
          "text": [
            "<class 'pandas.core.frame.DataFrame'>\n",
            "RangeIndex: 1600 entries, 0 to 1599\n",
            "Data columns (total 3 columns):\n",
            "id                1600 non-null int64\n",
            "tanggal           1600 non-null object\n",
            "lokasi_dominan    1600 non-null object\n",
            "dtypes: int64(1), object(2)\n",
            "memory usage: 37.6+ KB\n"
          ]
        }
      ],
      "source": [
        "lokasi.info()"
      ]
    },
    {
      "cell_type": "code",
      "execution_count": null,
      "metadata": {
        "id": "HgiDuCQHU6aR",
        "outputId": "d26a99ea-8a36-4896-dd8a-aee0e173de54"
      },
      "outputs": [
        {
          "name": "stdout",
          "output_type": "stream",
          "text": [
            "<class 'pandas.core.frame.DataFrame'>\n",
            "RangeIndex: 100 entries, 0 to 99\n",
            "Data columns (total 4 columns):\n",
            "id               100 non-null int64\n",
            "jenis_kelamin    100 non-null object\n",
            "divisi           100 non-null object\n",
            "umur             100 non-null int64\n",
            "dtypes: int64(2), object(2)\n",
            "memory usage: 3.2+ KB\n"
          ]
        }
      ],
      "source": [
        "profil.info()"
      ]
    },
    {
      "cell_type": "code",
      "execution_count": null,
      "metadata": {
        "id": "iXqgELY9U6aS"
      },
      "outputs": [],
      "source": [
        "df = pd.merge(lokasi, profil, on='id')"
      ]
    },
    {
      "cell_type": "code",
      "execution_count": null,
      "metadata": {
        "id": "rMk7ARAyU6aS"
      },
      "outputs": [],
      "source": [
        "df['tanggal']  = df['tanggal'].apply(lambda x : datetime.datetime.strptime(str(x), '%d/%m/%y'))"
      ]
    },
    {
      "cell_type": "code",
      "execution_count": null,
      "metadata": {
        "id": "mSJ6H9pzU6aT",
        "outputId": "b4af115e-9d00-4e0f-bd90-7cdb79bdfea4"
      },
      "outputs": [
        {
          "name": "stdout",
          "output_type": "stream",
          "text": [
            "<class 'pandas.core.frame.DataFrame'>\n",
            "Int64Index: 1600 entries, 0 to 1599\n",
            "Data columns (total 6 columns):\n",
            "id                1600 non-null int64\n",
            "tanggal           1600 non-null datetime64[ns]\n",
            "lokasi_dominan    1600 non-null object\n",
            "jenis_kelamin     1600 non-null object\n",
            "divisi            1600 non-null object\n",
            "umur              1600 non-null int64\n",
            "dtypes: datetime64[ns](1), int64(2), object(3)\n",
            "memory usage: 87.5+ KB\n"
          ]
        }
      ],
      "source": [
        "df.info()"
      ]
    },
    {
      "cell_type": "markdown",
      "metadata": {
        "id": "mk1ss0zkU6aU"
      },
      "source": [
        "Pertanyaan :\n",
        "1. mudik tanggal berapa\n",
        "2. kota/ pulau tujuan\n",
        "3. gender yang pulang kampung\n",
        "4. umur berapa yang banyak pulang kampung\n",
        "5. kemungkinan moda transportasi yang dipilih dengan asumsi tertentu\n",
        "6. observasi karakter setiap kelompok profesi"
      ]
    },
    {
      "cell_type": "markdown",
      "metadata": {
        "id": "FV6UrGpFU6aV"
      },
      "source": [
        "### Filter yang mudik saja"
      ]
    },
    {
      "cell_type": "markdown",
      "metadata": {
        "id": "BXbsbeBPU6aV"
      },
      "source": [
        "**Asumsi bahwa yang mudik adalah yang TIDAK ADA di jabodetabek tanggal 5 juni 2019**"
      ]
    },
    {
      "cell_type": "code",
      "execution_count": null,
      "metadata": {
        "id": "-0IElicQU6aV"
      },
      "outputs": [],
      "source": [
        "#setiap karyawan memiliki record 16 row, 16 * 100 karyawan = 1600 row\n",
        "df.sort_values(by=['id','tanggal'], inplace=True)"
      ]
    },
    {
      "cell_type": "code",
      "execution_count": null,
      "metadata": {
        "id": "6ac1JQvIU6aW",
        "outputId": "62916065-e296-4be9-98f3-80bc8b0ac74d"
      },
      "outputs": [
        {
          "data": {
            "text/html": [
              "<div>\n",
              "<style scoped>\n",
              "    .dataframe tbody tr th:only-of-type {\n",
              "        vertical-align: middle;\n",
              "    }\n",
              "\n",
              "    .dataframe tbody tr th {\n",
              "        vertical-align: top;\n",
              "    }\n",
              "\n",
              "    .dataframe thead th {\n",
              "        text-align: right;\n",
              "    }\n",
              "</style>\n",
              "<table border=\"1\" class=\"dataframe\">\n",
              "  <thead>\n",
              "    <tr style=\"text-align: right;\">\n",
              "      <th></th>\n",
              "      <th>id</th>\n",
              "      <th>tanggal</th>\n",
              "      <th>lokasi_dominan</th>\n",
              "      <th>jenis_kelamin</th>\n",
              "      <th>divisi</th>\n",
              "      <th>umur</th>\n",
              "    </tr>\n",
              "  </thead>\n",
              "  <tbody>\n",
              "    <tr>\n",
              "      <th>0</th>\n",
              "      <td>1</td>\n",
              "      <td>2019-05-21</td>\n",
              "      <td>Jakarta Pusat</td>\n",
              "      <td>Laki-laki</td>\n",
              "      <td>Customer Service</td>\n",
              "      <td>34</td>\n",
              "    </tr>\n",
              "    <tr>\n",
              "      <th>1</th>\n",
              "      <td>1</td>\n",
              "      <td>2019-05-22</td>\n",
              "      <td>Jakarta Pusat</td>\n",
              "      <td>Laki-laki</td>\n",
              "      <td>Customer Service</td>\n",
              "      <td>34</td>\n",
              "    </tr>\n",
              "    <tr>\n",
              "      <th>2</th>\n",
              "      <td>1</td>\n",
              "      <td>2019-05-23</td>\n",
              "      <td>Jakarta Pusat</td>\n",
              "      <td>Laki-laki</td>\n",
              "      <td>Customer Service</td>\n",
              "      <td>34</td>\n",
              "    </tr>\n",
              "    <tr>\n",
              "      <th>3</th>\n",
              "      <td>1</td>\n",
              "      <td>2019-05-24</td>\n",
              "      <td>Kota Bekasi</td>\n",
              "      <td>Laki-laki</td>\n",
              "      <td>Customer Service</td>\n",
              "      <td>34</td>\n",
              "    </tr>\n",
              "    <tr>\n",
              "      <th>4</th>\n",
              "      <td>1</td>\n",
              "      <td>2019-05-25</td>\n",
              "      <td>Kota Bekasi</td>\n",
              "      <td>Laki-laki</td>\n",
              "      <td>Customer Service</td>\n",
              "      <td>34</td>\n",
              "    </tr>\n",
              "    <tr>\n",
              "      <th>5</th>\n",
              "      <td>1</td>\n",
              "      <td>2019-05-26</td>\n",
              "      <td>Kota Medan</td>\n",
              "      <td>Laki-laki</td>\n",
              "      <td>Customer Service</td>\n",
              "      <td>34</td>\n",
              "    </tr>\n",
              "    <tr>\n",
              "      <th>6</th>\n",
              "      <td>1</td>\n",
              "      <td>2019-05-27</td>\n",
              "      <td>Kota Bekasi</td>\n",
              "      <td>Laki-laki</td>\n",
              "      <td>Customer Service</td>\n",
              "      <td>34</td>\n",
              "    </tr>\n",
              "    <tr>\n",
              "      <th>7</th>\n",
              "      <td>1</td>\n",
              "      <td>2019-05-28</td>\n",
              "      <td>Kota Padang</td>\n",
              "      <td>Laki-laki</td>\n",
              "      <td>Customer Service</td>\n",
              "      <td>34</td>\n",
              "    </tr>\n",
              "    <tr>\n",
              "      <th>8</th>\n",
              "      <td>1</td>\n",
              "      <td>2019-05-29</td>\n",
              "      <td>Kota Padang</td>\n",
              "      <td>Laki-laki</td>\n",
              "      <td>Customer Service</td>\n",
              "      <td>34</td>\n",
              "    </tr>\n",
              "    <tr>\n",
              "      <th>9</th>\n",
              "      <td>1</td>\n",
              "      <td>2019-05-30</td>\n",
              "      <td>Kota Padang</td>\n",
              "      <td>Laki-laki</td>\n",
              "      <td>Customer Service</td>\n",
              "      <td>34</td>\n",
              "    </tr>\n",
              "    <tr>\n",
              "      <th>10</th>\n",
              "      <td>1</td>\n",
              "      <td>2019-05-31</td>\n",
              "      <td>Kota Padang</td>\n",
              "      <td>Laki-laki</td>\n",
              "      <td>Customer Service</td>\n",
              "      <td>34</td>\n",
              "    </tr>\n",
              "    <tr>\n",
              "      <th>11</th>\n",
              "      <td>1</td>\n",
              "      <td>2019-06-01</td>\n",
              "      <td>Kota Padang</td>\n",
              "      <td>Laki-laki</td>\n",
              "      <td>Customer Service</td>\n",
              "      <td>34</td>\n",
              "    </tr>\n",
              "    <tr>\n",
              "      <th>12</th>\n",
              "      <td>1</td>\n",
              "      <td>2019-06-02</td>\n",
              "      <td>Kota Padang</td>\n",
              "      <td>Laki-laki</td>\n",
              "      <td>Customer Service</td>\n",
              "      <td>34</td>\n",
              "    </tr>\n",
              "    <tr>\n",
              "      <th>13</th>\n",
              "      <td>1</td>\n",
              "      <td>2019-06-03</td>\n",
              "      <td>Kota Padang</td>\n",
              "      <td>Laki-laki</td>\n",
              "      <td>Customer Service</td>\n",
              "      <td>34</td>\n",
              "    </tr>\n",
              "    <tr>\n",
              "      <th>14</th>\n",
              "      <td>1</td>\n",
              "      <td>2019-06-04</td>\n",
              "      <td>Kota Padang</td>\n",
              "      <td>Laki-laki</td>\n",
              "      <td>Customer Service</td>\n",
              "      <td>34</td>\n",
              "    </tr>\n",
              "    <tr>\n",
              "      <th>15</th>\n",
              "      <td>1</td>\n",
              "      <td>2019-06-05</td>\n",
              "      <td>Kota Padang</td>\n",
              "      <td>Laki-laki</td>\n",
              "      <td>Customer Service</td>\n",
              "      <td>34</td>\n",
              "    </tr>\n",
              "    <tr>\n",
              "      <th>16</th>\n",
              "      <td>2</td>\n",
              "      <td>2019-05-21</td>\n",
              "      <td>Kabupaten Bogor</td>\n",
              "      <td>Laki-laki</td>\n",
              "      <td>Data Engineer</td>\n",
              "      <td>26</td>\n",
              "    </tr>\n",
              "    <tr>\n",
              "      <th>17</th>\n",
              "      <td>2</td>\n",
              "      <td>2019-05-22</td>\n",
              "      <td>Kabupaten Bogor</td>\n",
              "      <td>Laki-laki</td>\n",
              "      <td>Data Engineer</td>\n",
              "      <td>26</td>\n",
              "    </tr>\n",
              "    <tr>\n",
              "      <th>18</th>\n",
              "      <td>2</td>\n",
              "      <td>2019-05-23</td>\n",
              "      <td>Jakarta Selatan</td>\n",
              "      <td>Laki-laki</td>\n",
              "      <td>Data Engineer</td>\n",
              "      <td>26</td>\n",
              "    </tr>\n",
              "    <tr>\n",
              "      <th>19</th>\n",
              "      <td>2</td>\n",
              "      <td>2019-05-24</td>\n",
              "      <td>Kabupaten Bogor</td>\n",
              "      <td>Laki-laki</td>\n",
              "      <td>Data Engineer</td>\n",
              "      <td>26</td>\n",
              "    </tr>\n",
              "    <tr>\n",
              "      <th>20</th>\n",
              "      <td>2</td>\n",
              "      <td>2019-05-25</td>\n",
              "      <td>Kabupaten Bogor</td>\n",
              "      <td>Laki-laki</td>\n",
              "      <td>Data Engineer</td>\n",
              "      <td>26</td>\n",
              "    </tr>\n",
              "    <tr>\n",
              "      <th>21</th>\n",
              "      <td>2</td>\n",
              "      <td>2019-05-26</td>\n",
              "      <td>Kabupaten Bogor</td>\n",
              "      <td>Laki-laki</td>\n",
              "      <td>Data Engineer</td>\n",
              "      <td>26</td>\n",
              "    </tr>\n",
              "    <tr>\n",
              "      <th>22</th>\n",
              "      <td>2</td>\n",
              "      <td>2019-05-27</td>\n",
              "      <td>Kabupaten Bogor</td>\n",
              "      <td>Laki-laki</td>\n",
              "      <td>Data Engineer</td>\n",
              "      <td>26</td>\n",
              "    </tr>\n",
              "    <tr>\n",
              "      <th>23</th>\n",
              "      <td>2</td>\n",
              "      <td>2019-05-28</td>\n",
              "      <td>Kabupaten Bogor</td>\n",
              "      <td>Laki-laki</td>\n",
              "      <td>Data Engineer</td>\n",
              "      <td>26</td>\n",
              "    </tr>\n",
              "    <tr>\n",
              "      <th>24</th>\n",
              "      <td>2</td>\n",
              "      <td>2019-05-29</td>\n",
              "      <td>Jakarta Timur</td>\n",
              "      <td>Laki-laki</td>\n",
              "      <td>Data Engineer</td>\n",
              "      <td>26</td>\n",
              "    </tr>\n",
              "    <tr>\n",
              "      <th>25</th>\n",
              "      <td>2</td>\n",
              "      <td>2019-05-30</td>\n",
              "      <td>Kota Manado</td>\n",
              "      <td>Laki-laki</td>\n",
              "      <td>Data Engineer</td>\n",
              "      <td>26</td>\n",
              "    </tr>\n",
              "    <tr>\n",
              "      <th>26</th>\n",
              "      <td>2</td>\n",
              "      <td>2019-05-31</td>\n",
              "      <td>Kota Manado</td>\n",
              "      <td>Laki-laki</td>\n",
              "      <td>Data Engineer</td>\n",
              "      <td>26</td>\n",
              "    </tr>\n",
              "    <tr>\n",
              "      <th>27</th>\n",
              "      <td>2</td>\n",
              "      <td>2019-06-01</td>\n",
              "      <td>Kota Manado</td>\n",
              "      <td>Laki-laki</td>\n",
              "      <td>Data Engineer</td>\n",
              "      <td>26</td>\n",
              "    </tr>\n",
              "    <tr>\n",
              "      <th>28</th>\n",
              "      <td>2</td>\n",
              "      <td>2019-06-02</td>\n",
              "      <td>Kota Manado</td>\n",
              "      <td>Laki-laki</td>\n",
              "      <td>Data Engineer</td>\n",
              "      <td>26</td>\n",
              "    </tr>\n",
              "    <tr>\n",
              "      <th>29</th>\n",
              "      <td>2</td>\n",
              "      <td>2019-06-03</td>\n",
              "      <td>Kota Manado</td>\n",
              "      <td>Laki-laki</td>\n",
              "      <td>Data Engineer</td>\n",
              "      <td>26</td>\n",
              "    </tr>\n",
              "    <tr>\n",
              "      <th>30</th>\n",
              "      <td>2</td>\n",
              "      <td>2019-06-04</td>\n",
              "      <td>Kota Manado</td>\n",
              "      <td>Laki-laki</td>\n",
              "      <td>Data Engineer</td>\n",
              "      <td>26</td>\n",
              "    </tr>\n",
              "    <tr>\n",
              "      <th>31</th>\n",
              "      <td>2</td>\n",
              "      <td>2019-06-05</td>\n",
              "      <td>Kota Manado</td>\n",
              "      <td>Laki-laki</td>\n",
              "      <td>Data Engineer</td>\n",
              "      <td>26</td>\n",
              "    </tr>\n",
              "  </tbody>\n",
              "</table>\n",
              "</div>"
            ],
            "text/plain": [
              "    id    tanggal   lokasi_dominan jenis_kelamin            divisi  umur\n",
              "0    1 2019-05-21    Jakarta Pusat     Laki-laki  Customer Service    34\n",
              "1    1 2019-05-22    Jakarta Pusat     Laki-laki  Customer Service    34\n",
              "2    1 2019-05-23    Jakarta Pusat     Laki-laki  Customer Service    34\n",
              "3    1 2019-05-24      Kota Bekasi     Laki-laki  Customer Service    34\n",
              "4    1 2019-05-25      Kota Bekasi     Laki-laki  Customer Service    34\n",
              "5    1 2019-05-26       Kota Medan     Laki-laki  Customer Service    34\n",
              "6    1 2019-05-27      Kota Bekasi     Laki-laki  Customer Service    34\n",
              "7    1 2019-05-28      Kota Padang     Laki-laki  Customer Service    34\n",
              "8    1 2019-05-29      Kota Padang     Laki-laki  Customer Service    34\n",
              "9    1 2019-05-30      Kota Padang     Laki-laki  Customer Service    34\n",
              "10   1 2019-05-31      Kota Padang     Laki-laki  Customer Service    34\n",
              "11   1 2019-06-01      Kota Padang     Laki-laki  Customer Service    34\n",
              "12   1 2019-06-02      Kota Padang     Laki-laki  Customer Service    34\n",
              "13   1 2019-06-03      Kota Padang     Laki-laki  Customer Service    34\n",
              "14   1 2019-06-04      Kota Padang     Laki-laki  Customer Service    34\n",
              "15   1 2019-06-05      Kota Padang     Laki-laki  Customer Service    34\n",
              "16   2 2019-05-21  Kabupaten Bogor     Laki-laki     Data Engineer    26\n",
              "17   2 2019-05-22  Kabupaten Bogor     Laki-laki     Data Engineer    26\n",
              "18   2 2019-05-23  Jakarta Selatan     Laki-laki     Data Engineer    26\n",
              "19   2 2019-05-24  Kabupaten Bogor     Laki-laki     Data Engineer    26\n",
              "20   2 2019-05-25  Kabupaten Bogor     Laki-laki     Data Engineer    26\n",
              "21   2 2019-05-26  Kabupaten Bogor     Laki-laki     Data Engineer    26\n",
              "22   2 2019-05-27  Kabupaten Bogor     Laki-laki     Data Engineer    26\n",
              "23   2 2019-05-28  Kabupaten Bogor     Laki-laki     Data Engineer    26\n",
              "24   2 2019-05-29    Jakarta Timur     Laki-laki     Data Engineer    26\n",
              "25   2 2019-05-30      Kota Manado     Laki-laki     Data Engineer    26\n",
              "26   2 2019-05-31      Kota Manado     Laki-laki     Data Engineer    26\n",
              "27   2 2019-06-01      Kota Manado     Laki-laki     Data Engineer    26\n",
              "28   2 2019-06-02      Kota Manado     Laki-laki     Data Engineer    26\n",
              "29   2 2019-06-03      Kota Manado     Laki-laki     Data Engineer    26\n",
              "30   2 2019-06-04      Kota Manado     Laki-laki     Data Engineer    26\n",
              "31   2 2019-06-05      Kota Manado     Laki-laki     Data Engineer    26"
            ]
          },
          "execution_count": 300,
          "metadata": {},
          "output_type": "execute_result"
        }
      ],
      "source": [
        "df.head(32)"
      ]
    },
    {
      "cell_type": "code",
      "execution_count": null,
      "metadata": {
        "id": "7fIJZF3qU6aW",
        "outputId": "9a415322-8af6-4a16-baaa-663025bc89c6"
      },
      "outputs": [
        {
          "data": {
            "text/html": [
              "<div>\n",
              "<style scoped>\n",
              "    .dataframe tbody tr th:only-of-type {\n",
              "        vertical-align: middle;\n",
              "    }\n",
              "\n",
              "    .dataframe tbody tr th {\n",
              "        vertical-align: top;\n",
              "    }\n",
              "\n",
              "    .dataframe thead th {\n",
              "        text-align: right;\n",
              "    }\n",
              "</style>\n",
              "<table border=\"1\" class=\"dataframe\">\n",
              "  <thead>\n",
              "    <tr style=\"text-align: right;\">\n",
              "      <th></th>\n",
              "      <th>lokasi_dominan</th>\n",
              "      <th>jabodetabek</th>\n",
              "    </tr>\n",
              "  </thead>\n",
              "  <tbody>\n",
              "    <tr>\n",
              "      <th>0</th>\n",
              "      <td>Jakarta Pusat</td>\n",
              "      <td>yes</td>\n",
              "    </tr>\n",
              "    <tr>\n",
              "      <th>1</th>\n",
              "      <td>Kota Bekasi</td>\n",
              "      <td>yes</td>\n",
              "    </tr>\n",
              "    <tr>\n",
              "      <th>2</th>\n",
              "      <td>Kota Medan</td>\n",
              "      <td>no</td>\n",
              "    </tr>\n",
              "    <tr>\n",
              "      <th>3</th>\n",
              "      <td>Kota Padang</td>\n",
              "      <td>no</td>\n",
              "    </tr>\n",
              "    <tr>\n",
              "      <th>4</th>\n",
              "      <td>Kabupaten Bogor</td>\n",
              "      <td>yes</td>\n",
              "    </tr>\n",
              "  </tbody>\n",
              "</table>\n",
              "</div>"
            ],
            "text/plain": [
              "    lokasi_dominan jabodetabek\n",
              "0    Jakarta Pusat         yes\n",
              "1      Kota Bekasi         yes\n",
              "2       Kota Medan          no\n",
              "3      Kota Padang          no\n",
              "4  Kabupaten Bogor         yes"
            ]
          },
          "execution_count": 301,
          "metadata": {},
          "output_type": "execute_result"
        }
      ],
      "source": [
        "#Tandai yang jabodetabek dan tidak\n",
        "lokasi = pd.DataFrame(df['lokasi_dominan'].unique())\n",
        "lokasi.rename({0:'lokasi_dominan'},axis=1, inplace=True)\n",
        "lokasi['jabodetabek'] = lokasi['lokasi_dominan'].apply(lambda x : \"yes\" if (x ==\"Jakarta Pusat\" or x ==\"Kota Bekasi\" or x ==\"Kabupaten Bogor\" or x ==\"Jakarta Selatan\" or x ==\"Jakarta Timur\" or x ==\"Kabupaten Bekasi\" or x ==\"Kota Depok\" or x ==\"Kota Tangerang\" or x ==\"Jakarta Utara\"  or x ==\"Kota Tangerang Selatan\"or x ==\"Kota Bogor\" or x ==\"Jakarta Barat\" or x ==\"Kabupaten Tangerang\") else \"no\" )\n",
        "lokasi.head()"
      ]
    },
    {
      "cell_type": "code",
      "execution_count": null,
      "metadata": {
        "id": "ruT7wpQhU6aX",
        "outputId": "fc64d844-ee4c-4364-f145-b82d8c188cdd"
      },
      "outputs": [
        {
          "data": {
            "text/html": [
              "<div>\n",
              "<style scoped>\n",
              "    .dataframe tbody tr th:only-of-type {\n",
              "        vertical-align: middle;\n",
              "    }\n",
              "\n",
              "    .dataframe tbody tr th {\n",
              "        vertical-align: top;\n",
              "    }\n",
              "\n",
              "    .dataframe thead th {\n",
              "        text-align: right;\n",
              "    }\n",
              "</style>\n",
              "<table border=\"1\" class=\"dataframe\">\n",
              "  <thead>\n",
              "    <tr style=\"text-align: right;\">\n",
              "      <th></th>\n",
              "      <th>id</th>\n",
              "      <th>tanggal</th>\n",
              "      <th>lokasi_dominan</th>\n",
              "      <th>jenis_kelamin</th>\n",
              "      <th>divisi</th>\n",
              "      <th>umur</th>\n",
              "      <th>jabodetabek</th>\n",
              "    </tr>\n",
              "  </thead>\n",
              "  <tbody>\n",
              "    <tr>\n",
              "      <th>0</th>\n",
              "      <td>1</td>\n",
              "      <td>2019-05-21</td>\n",
              "      <td>Jakarta Pusat</td>\n",
              "      <td>Laki-laki</td>\n",
              "      <td>Customer Service</td>\n",
              "      <td>34</td>\n",
              "      <td>yes</td>\n",
              "    </tr>\n",
              "    <tr>\n",
              "      <th>1</th>\n",
              "      <td>1</td>\n",
              "      <td>2019-05-22</td>\n",
              "      <td>Jakarta Pusat</td>\n",
              "      <td>Laki-laki</td>\n",
              "      <td>Customer Service</td>\n",
              "      <td>34</td>\n",
              "      <td>yes</td>\n",
              "    </tr>\n",
              "    <tr>\n",
              "      <th>2</th>\n",
              "      <td>1</td>\n",
              "      <td>2019-05-23</td>\n",
              "      <td>Jakarta Pusat</td>\n",
              "      <td>Laki-laki</td>\n",
              "      <td>Customer Service</td>\n",
              "      <td>34</td>\n",
              "      <td>yes</td>\n",
              "    </tr>\n",
              "    <tr>\n",
              "      <th>89</th>\n",
              "      <td>1</td>\n",
              "      <td>2019-05-24</td>\n",
              "      <td>Kota Bekasi</td>\n",
              "      <td>Laki-laki</td>\n",
              "      <td>Customer Service</td>\n",
              "      <td>34</td>\n",
              "      <td>yes</td>\n",
              "    </tr>\n",
              "    <tr>\n",
              "      <th>90</th>\n",
              "      <td>1</td>\n",
              "      <td>2019-05-25</td>\n",
              "      <td>Kota Bekasi</td>\n",
              "      <td>Laki-laki</td>\n",
              "      <td>Customer Service</td>\n",
              "      <td>34</td>\n",
              "      <td>yes</td>\n",
              "    </tr>\n",
              "    <tr>\n",
              "      <th>188</th>\n",
              "      <td>1</td>\n",
              "      <td>2019-05-26</td>\n",
              "      <td>Kota Medan</td>\n",
              "      <td>Laki-laki</td>\n",
              "      <td>Customer Service</td>\n",
              "      <td>34</td>\n",
              "      <td>no</td>\n",
              "    </tr>\n",
              "    <tr>\n",
              "      <th>91</th>\n",
              "      <td>1</td>\n",
              "      <td>2019-05-27</td>\n",
              "      <td>Kota Bekasi</td>\n",
              "      <td>Laki-laki</td>\n",
              "      <td>Customer Service</td>\n",
              "      <td>34</td>\n",
              "      <td>yes</td>\n",
              "    </tr>\n",
              "    <tr>\n",
              "      <th>241</th>\n",
              "      <td>1</td>\n",
              "      <td>2019-05-28</td>\n",
              "      <td>Kota Padang</td>\n",
              "      <td>Laki-laki</td>\n",
              "      <td>Customer Service</td>\n",
              "      <td>34</td>\n",
              "      <td>no</td>\n",
              "    </tr>\n",
              "    <tr>\n",
              "      <th>242</th>\n",
              "      <td>1</td>\n",
              "      <td>2019-05-29</td>\n",
              "      <td>Kota Padang</td>\n",
              "      <td>Laki-laki</td>\n",
              "      <td>Customer Service</td>\n",
              "      <td>34</td>\n",
              "      <td>no</td>\n",
              "    </tr>\n",
              "    <tr>\n",
              "      <th>243</th>\n",
              "      <td>1</td>\n",
              "      <td>2019-05-30</td>\n",
              "      <td>Kota Padang</td>\n",
              "      <td>Laki-laki</td>\n",
              "      <td>Customer Service</td>\n",
              "      <td>34</td>\n",
              "      <td>no</td>\n",
              "    </tr>\n",
              "  </tbody>\n",
              "</table>\n",
              "</div>"
            ],
            "text/plain": [
              "     id    tanggal lokasi_dominan jenis_kelamin            divisi  umur  \\\n",
              "0     1 2019-05-21  Jakarta Pusat     Laki-laki  Customer Service    34   \n",
              "1     1 2019-05-22  Jakarta Pusat     Laki-laki  Customer Service    34   \n",
              "2     1 2019-05-23  Jakarta Pusat     Laki-laki  Customer Service    34   \n",
              "89    1 2019-05-24    Kota Bekasi     Laki-laki  Customer Service    34   \n",
              "90    1 2019-05-25    Kota Bekasi     Laki-laki  Customer Service    34   \n",
              "188   1 2019-05-26     Kota Medan     Laki-laki  Customer Service    34   \n",
              "91    1 2019-05-27    Kota Bekasi     Laki-laki  Customer Service    34   \n",
              "241   1 2019-05-28    Kota Padang     Laki-laki  Customer Service    34   \n",
              "242   1 2019-05-29    Kota Padang     Laki-laki  Customer Service    34   \n",
              "243   1 2019-05-30    Kota Padang     Laki-laki  Customer Service    34   \n",
              "\n",
              "    jabodetabek  \n",
              "0           yes  \n",
              "1           yes  \n",
              "2           yes  \n",
              "89          yes  \n",
              "90          yes  \n",
              "188          no  \n",
              "91          yes  \n",
              "241          no  \n",
              "242          no  \n",
              "243          no  "
            ]
          },
          "execution_count": 271,
          "metadata": {},
          "output_type": "execute_result"
        }
      ],
      "source": [
        "df2 = pd.merge(df, lokasi, on='lokasi_dominan')\n",
        "df2.sort_values(by=['id','tanggal'], inplace=True)\n",
        "df2.head(10)"
      ]
    },
    {
      "cell_type": "code",
      "execution_count": null,
      "metadata": {
        "id": "EeGfNDOYU6aX",
        "outputId": "61f52962-b4ce-4a4f-c43c-90f2d4de46c6"
      },
      "outputs": [
        {
          "data": {
            "text/html": [
              "<div>\n",
              "<style scoped>\n",
              "    .dataframe tbody tr th:only-of-type {\n",
              "        vertical-align: middle;\n",
              "    }\n",
              "\n",
              "    .dataframe tbody tr th {\n",
              "        vertical-align: top;\n",
              "    }\n",
              "\n",
              "    .dataframe thead th {\n",
              "        text-align: right;\n",
              "    }\n",
              "</style>\n",
              "<table border=\"1\" class=\"dataframe\">\n",
              "  <thead>\n",
              "    <tr style=\"text-align: right;\">\n",
              "      <th></th>\n",
              "      <th>id</th>\n",
              "      <th>tanggal</th>\n",
              "      <th>lokasi_dominan</th>\n",
              "      <th>jenis_kelamin</th>\n",
              "      <th>divisi</th>\n",
              "      <th>umur</th>\n",
              "      <th>jabodetabek</th>\n",
              "    </tr>\n",
              "  </thead>\n",
              "  <tbody>\n",
              "    <tr>\n",
              "      <th>249</th>\n",
              "      <td>1</td>\n",
              "      <td>2019-06-05</td>\n",
              "      <td>Kota Padang</td>\n",
              "      <td>Laki-laki</td>\n",
              "      <td>Customer Service</td>\n",
              "      <td>34</td>\n",
              "      <td>no</td>\n",
              "    </tr>\n",
              "    <tr>\n",
              "      <th>521</th>\n",
              "      <td>2</td>\n",
              "      <td>2019-06-05</td>\n",
              "      <td>Kota Manado</td>\n",
              "      <td>Laki-laki</td>\n",
              "      <td>Data Engineer</td>\n",
              "      <td>26</td>\n",
              "      <td>no</td>\n",
              "    </tr>\n",
              "    <tr>\n",
              "      <th>252</th>\n",
              "      <td>3</td>\n",
              "      <td>2019-06-05</td>\n",
              "      <td>Kota Padang</td>\n",
              "      <td>Laki-laki</td>\n",
              "      <td>Software Engineer</td>\n",
              "      <td>28</td>\n",
              "      <td>no</td>\n",
              "    </tr>\n",
              "    <tr>\n",
              "      <th>927</th>\n",
              "      <td>4</td>\n",
              "      <td>2019-06-05</td>\n",
              "      <td>Kota Bandar Lampung</td>\n",
              "      <td>Perempuan</td>\n",
              "      <td>Business Intelligence</td>\n",
              "      <td>21</td>\n",
              "      <td>no</td>\n",
              "    </tr>\n",
              "    <tr>\n",
              "      <th>1273</th>\n",
              "      <td>5</td>\n",
              "      <td>2019-06-05</td>\n",
              "      <td>Kota Yogyakarta</td>\n",
              "      <td>Perempuan</td>\n",
              "      <td>Software Engineer</td>\n",
              "      <td>21</td>\n",
              "      <td>no</td>\n",
              "    </tr>\n",
              "  </tbody>\n",
              "</table>\n",
              "</div>"
            ],
            "text/plain": [
              "      id    tanggal       lokasi_dominan jenis_kelamin                 divisi  \\\n",
              "249    1 2019-06-05          Kota Padang     Laki-laki       Customer Service   \n",
              "521    2 2019-06-05          Kota Manado     Laki-laki          Data Engineer   \n",
              "252    3 2019-06-05          Kota Padang     Laki-laki      Software Engineer   \n",
              "927    4 2019-06-05  Kota Bandar Lampung     Perempuan  Business Intelligence   \n",
              "1273   5 2019-06-05      Kota Yogyakarta     Perempuan      Software Engineer   \n",
              "\n",
              "      umur jabodetabek  \n",
              "249     34          no  \n",
              "521     26          no  \n",
              "252     28          no  \n",
              "927     21          no  \n",
              "1273    21          no  "
            ]
          },
          "execution_count": 302,
          "metadata": {},
          "output_type": "execute_result"
        }
      ],
      "source": [
        "#ambil row terakhir (tanggal 5) setiap id\n",
        "df2_mudik = df2.groupby('id').tail(1)\n",
        "df2_mudik.head()"
      ]
    },
    {
      "cell_type": "code",
      "execution_count": null,
      "metadata": {
        "id": "9M0W5_aEU6aY",
        "outputId": "3d55d443-fe6e-403c-ba79-4a8ec2c64c34"
      },
      "outputs": [
        {
          "data": {
            "text/plain": [
              "(100, 7)"
            ]
          },
          "execution_count": 303,
          "metadata": {},
          "output_type": "execute_result"
        }
      ],
      "source": [
        "df2_mudik.shape"
      ]
    },
    {
      "cell_type": "markdown",
      "metadata": {
        "id": "Yij65tFrU6aY"
      },
      "source": [
        "#### Perbandingan yang mudik dan tidak"
      ]
    },
    {
      "cell_type": "code",
      "execution_count": null,
      "metadata": {
        "id": "gWphTQkmU6aY",
        "outputId": "709b5239-29c6-4a6d-b00e-4047aeee3046"
      },
      "outputs": [
        {
          "data": {
            "text/plain": [
              "jabodetabek\n",
              "no     91\n",
              "yes     9\n",
              "Name: id, dtype: int64"
            ]
          },
          "execution_count": 304,
          "metadata": {},
          "output_type": "execute_result"
        }
      ],
      "source": [
        "#91 orang mudik, 9 lagi tidak\n",
        "df2_mudik.groupby('jabodetabek').count()['id']"
      ]
    },
    {
      "cell_type": "code",
      "execution_count": null,
      "metadata": {
        "id": "HGO4kdK9U6aY",
        "outputId": "cf9816be-fca3-4acb-8b92-40c4476fb21e"
      },
      "outputs": [
        {
          "data": {
            "text/plain": [
              "<matplotlib.axes._subplots.AxesSubplot at 0x13458464b00>"
            ]
          },
          "execution_count": 305,
          "metadata": {},
          "output_type": "execute_result"
        },
        {
          "data": {
            "image/png": "[encoded data removed]",
            "text/plain": [
              "<Figure size 240x280 with 1 Axes>"
            ]
          },
          "metadata": {},
          "output_type": "display_data"
        }
      ],
      "source": [
        "df2_mudik.groupby('jabodetabek').count().plot(kind='bar',y='id')"
      ]
    },
    {
      "cell_type": "markdown",
      "metadata": {
        "id": "wPUpzSYEU6aZ"
      },
      "source": [
        "#### Ambil data yang mudik saja"
      ]
    },
    {
      "cell_type": "code",
      "execution_count": null,
      "metadata": {
        "id": "9_aRwhyPU6aZ",
        "outputId": "8d7c98e6-7087-4a8d-cff1-2acf7ce0d25a"
      },
      "outputs": [
        {
          "name": "stderr",
          "output_type": "stream",
          "text": [
            "C:\\Users\\Adoh\\Anaconda3\\lib\\site-packages\\ipykernel_launcher.py:1: SettingWithCopyWarning: \n",
            "A value is trying to be set on a copy of a slice from a DataFrame\n",
            "\n",
            "See the caveats in the documentation: http://pandas.pydata.org/pandas-docs/stable/indexing.html#indexing-view-versus-copy\n",
            "  \"\"\"Entry point for launching an IPython kernel.\n"
          ]
        },
        {
          "data": {
            "text/plain": [
              "(91, 7)"
            ]
          },
          "execution_count": 306,
          "metadata": {},
          "output_type": "execute_result"
        }
      ],
      "source": [
        "df2_mudik.drop(df2_mudik.loc[(df2_mudik['jabodetabek']=='yes')].index, inplace=True)\n",
        "#df2_mudik_id = df2_mudik[['id']]\n",
        "#df2_mudik = pd.merge(df, df2_mudik_id, on='id',how='inner')\n",
        "df2_mudik.shape"
      ]
    },
    {
      "cell_type": "markdown",
      "metadata": {
        "id": "mtBCL8KoU6aZ"
      },
      "source": [
        "**tersisa 91 distinct id, dengan 16 row masing-masingnya**"
      ]
    },
    {
      "cell_type": "code",
      "execution_count": null,
      "metadata": {
        "id": "cHgxbG8VU6aZ",
        "outputId": "b6f20edb-26fd-4b7e-aef8-2072078774ab"
      },
      "outputs": [
        {
          "name": "stderr",
          "output_type": "stream",
          "text": [
            "C:\\Users\\Adoh\\Anaconda3\\lib\\site-packages\\ipykernel_launcher.py:1: SettingWithCopyWarning: \n",
            "A value is trying to be set on a copy of a slice from a DataFrame.\n",
            "Try using .loc[row_indexer,col_indexer] = value instead\n",
            "\n",
            "See the caveats in the documentation: http://pandas.pydata.org/pandas-docs/stable/indexing.html#indexing-view-versus-copy\n",
            "  \"\"\"Entry point for launching an IPython kernel.\n"
          ]
        },
        {
          "data": {
            "text/html": [
              "<div>\n",
              "<style scoped>\n",
              "    .dataframe tbody tr th:only-of-type {\n",
              "        vertical-align: middle;\n",
              "    }\n",
              "\n",
              "    .dataframe tbody tr th {\n",
              "        vertical-align: top;\n",
              "    }\n",
              "\n",
              "    .dataframe thead th {\n",
              "        text-align: right;\n",
              "    }\n",
              "</style>\n",
              "<table border=\"1\" class=\"dataframe\">\n",
              "  <thead>\n",
              "    <tr style=\"text-align: right;\">\n",
              "      <th></th>\n",
              "      <th>id</th>\n",
              "      <th>tanggal</th>\n",
              "      <th>lokasi_dominan</th>\n",
              "      <th>jenis_kelamin</th>\n",
              "      <th>divisi</th>\n",
              "      <th>umur</th>\n",
              "      <th>jabodetabek</th>\n",
              "    </tr>\n",
              "  </thead>\n",
              "  <tbody>\n",
              "    <tr>\n",
              "      <th>249</th>\n",
              "      <td>1</td>\n",
              "      <td>2019-06-05</td>\n",
              "      <td>Kota Padang</td>\n",
              "      <td>Laki-laki</td>\n",
              "      <td>Customer Service</td>\n",
              "      <td>34</td>\n",
              "      <td>no</td>\n",
              "    </tr>\n",
              "    <tr>\n",
              "      <th>521</th>\n",
              "      <td>2</td>\n",
              "      <td>2019-06-05</td>\n",
              "      <td>Kota Manado</td>\n",
              "      <td>Laki-laki</td>\n",
              "      <td>Data Engineer</td>\n",
              "      <td>26</td>\n",
              "      <td>no</td>\n",
              "    </tr>\n",
              "    <tr>\n",
              "      <th>252</th>\n",
              "      <td>3</td>\n",
              "      <td>2019-06-05</td>\n",
              "      <td>Kota Padang</td>\n",
              "      <td>Laki-laki</td>\n",
              "      <td>Software Engineer</td>\n",
              "      <td>28</td>\n",
              "      <td>no</td>\n",
              "    </tr>\n",
              "    <tr>\n",
              "      <th>927</th>\n",
              "      <td>4</td>\n",
              "      <td>2019-06-05</td>\n",
              "      <td>Kota Bandar Lampung</td>\n",
              "      <td>Perempuan</td>\n",
              "      <td>Business Intelligence</td>\n",
              "      <td>21</td>\n",
              "      <td>no</td>\n",
              "    </tr>\n",
              "    <tr>\n",
              "      <th>1273</th>\n",
              "      <td>5</td>\n",
              "      <td>2019-06-05</td>\n",
              "      <td>Kota Yogyakarta</td>\n",
              "      <td>Perempuan</td>\n",
              "      <td>Software Engineer</td>\n",
              "      <td>21</td>\n",
              "      <td>no</td>\n",
              "    </tr>\n",
              "  </tbody>\n",
              "</table>\n",
              "</div>"
            ],
            "text/plain": [
              "      id    tanggal       lokasi_dominan jenis_kelamin                 divisi  \\\n",
              "249    1 2019-06-05          Kota Padang     Laki-laki       Customer Service   \n",
              "521    2 2019-06-05          Kota Manado     Laki-laki          Data Engineer   \n",
              "252    3 2019-06-05          Kota Padang     Laki-laki      Software Engineer   \n",
              "927    4 2019-06-05  Kota Bandar Lampung     Perempuan  Business Intelligence   \n",
              "1273   5 2019-06-05      Kota Yogyakarta     Perempuan      Software Engineer   \n",
              "\n",
              "      umur jabodetabek  \n",
              "249     34          no  \n",
              "521     26          no  \n",
              "252     28          no  \n",
              "927     21          no  \n",
              "1273    21          no  "
            ]
          },
          "execution_count": 308,
          "metadata": {},
          "output_type": "execute_result"
        }
      ],
      "source": [
        "df2_mudik['jabodetabek'] = df2_mudik['lokasi_dominan'].apply(lambda x : \"yes\" if (x ==\"Jakarta Pusat\" or x ==\"Kota Bekasi\" or x ==\"Kabupaten Bogor\" or x ==\"Jakarta Selatan\" or x ==\"Jakarta Timur\" or x ==\"Kabupaten Bekasi\" or x ==\"Kota Depok\" or x ==\"Kota Tangerang\" or x ==\"Jakarta Utara\"  or x ==\"Kota Tangerang Selatan\"or x ==\"Kota Bogor\" or x ==\"Jakarta Barat\" or x ==\"Kabupaten Tangerang\") else \"no\" )\n",
        "df2_mudik.head()"
      ]
    },
    {
      "cell_type": "code",
      "execution_count": null,
      "metadata": {
        "id": "yNxzjxnvU6aZ",
        "outputId": "8553214e-251f-4cb4-ee5b-2029d6f561ff"
      },
      "outputs": [
        {
          "data": {
            "text/plain": [
              "<matplotlib.axes._subplots.AxesSubplot at 0x13458912f98>"
            ]
          },
          "execution_count": 309,
          "metadata": {},
          "output_type": "execute_result"
        },
        {
          "data": {
            "image/png": "[encoded data removed]",
            "text/plain": [
              "<Figure size 640x640 with 1 Axes>"
            ]
          },
          "metadata": {},
          "output_type": "display_data"
        }
      ],
      "source": [
        "color_arr = ['firebrick','#BDBDBD','#827717', '#FB8C00']\n",
        "df2_mudik.groupby('jenis_kelamin').count()['id'].plot(kind='pie',colors=color_arr,autopct='%.1f%%', figsize=(8,8), shadow=True,startangle=45)"
      ]
    },
    {
      "cell_type": "markdown",
      "metadata": {
        "id": "tAJAp0mxU6aa"
      },
      "source": [
        "### Umur yang mudik"
      ]
    },
    {
      "cell_type": "code",
      "execution_count": null,
      "metadata": {
        "id": "drcLSkZ0U6aa",
        "outputId": "12bbca33-8d9a-481d-b76c-9ad9a435719f"
      },
      "outputs": [
        {
          "data": {
            "text/plain": [
              "umur\n",
              "21     5\n",
              "22     6\n",
              "23    10\n",
              "24     5\n",
              "25    10\n",
              "26     6\n",
              "27     5\n",
              "28     9\n",
              "29     4\n",
              "30     3\n",
              "31     2\n",
              "32     5\n",
              "33     7\n",
              "34     9\n",
              "35     5\n",
              "Name: id, dtype: int64"
            ]
          },
          "execution_count": 310,
          "metadata": {},
          "output_type": "execute_result"
        }
      ],
      "source": [
        "df2_mudik.groupby('umur').count()['id']"
      ]
    },
    {
      "cell_type": "code",
      "execution_count": null,
      "metadata": {
        "id": "rKX62MmjU6aa",
        "outputId": "d374f753-c22f-40d4-e364-41e59285c345"
      },
      "outputs": [
        {
          "data": {
            "text/plain": [
              "[]"
            ]
          },
          "execution_count": 317,
          "metadata": {},
          "output_type": "execute_result"
        },
        {
          "data": {
            "image/png": "[encoded data removed]",
            "text/plain": [
              "<Figure size 800x960 with 1 Axes>"
            ]
          },
          "metadata": {},
          "output_type": "display_data"
        }
      ],
      "source": [
        "#x = df2_mudik['umur'].unique().astype('str')\n",
        "#y = df2_mudik.groupby('umur').count()['id'].sort_values(ascending=False)\n",
        "\n",
        "x = df2_mudik.groupby('umur').count()['id'].sort_values(ascending=False)\n",
        "\n",
        "\n",
        "plt.figure(figsize=(10,12))\n",
        "plt.vlines(x.index.astype(str), ymin=0,ymax=x,color='firebrick', alpha=0.7, linewidth=2)\n",
        "plt.scatter(x.index.astype(str), x, s=75, color='firebrick', alpha=0.7)\n",
        "plt.xticks(rotation=90)\n",
        "plt.plot()\n",
        "#plt.plot(df2_mudik['umur'])\n"
      ]
    },
    {
      "cell_type": "code",
      "execution_count": null,
      "metadata": {
        "id": "YcpTwg1ZU6aa",
        "outputId": "d12feab3-e556-4ef7-ea86-5c0423d5368a"
      },
      "outputs": [
        {
          "data": {
            "text/plain": [
              "umur\n",
              "31     2\n",
              "30     3\n",
              "29     4\n",
              "21     5\n",
              "24     5\n",
              "27     5\n",
              "32     5\n",
              "35     5\n",
              "22     6\n",
              "26     6\n",
              "33     7\n",
              "28     9\n",
              "34     9\n",
              "23    10\n",
              "25    10\n",
              "Name: id, dtype: int64"
            ]
          },
          "execution_count": 319,
          "metadata": {},
          "output_type": "execute_result"
        }
      ],
      "source": [
        "df2_mudik.groupby('umur').count()['id'].sort_values()"
      ]
    },
    {
      "cell_type": "markdown",
      "metadata": {
        "id": "KCraEF-WU6ab"
      },
      "source": [
        "### kota tujuan mudik"
      ]
    },
    {
      "cell_type": "code",
      "execution_count": null,
      "metadata": {
        "id": "A3YetPbdU6ab",
        "outputId": "9c5f4101-4179-487f-fe9d-b9b41c6b054d"
      },
      "outputs": [
        {
          "data": {
            "text/plain": [
              "array(['Kota Padang', 'Kota Manado', 'Kota Bandar Lampung',\n",
              "       'Kota Yogyakarta', 'Kabupaten Sleman', 'Kota Medan',\n",
              "       'Kota Semarang', 'Kabupaten Bantul', 'Kabupaten Tasikmalaya',\n",
              "       'Kabupaten Lampung Selatan', 'Kota Bandung', 'Kabupaten Wonogiri',\n",
              "       'Kabupaten Kebumen', 'Kota Surabaya', 'Kota Banda Aceh'],\n",
              "      dtype=object)"
            ]
          },
          "execution_count": 320,
          "metadata": {},
          "output_type": "execute_result"
        }
      ],
      "source": [
        "df2_mudik.loc[(df2_mudik['jabodetabek']=='no')]['lokasi_dominan'].unique()"
      ]
    },
    {
      "cell_type": "code",
      "execution_count": null,
      "metadata": {
        "id": "iezayjanU6ab",
        "outputId": "96889760-e473-4b21-de81-db67762aa894"
      },
      "outputs": [
        {
          "data": {
            "text/plain": [
              "<matplotlib.axes._subplots.AxesSubplot at 0x1345a679160>"
            ]
          },
          "execution_count": 326,
          "metadata": {},
          "output_type": "execute_result"
        },
        {
          "data": {
            "image/png": "[encoded data removed]",
            "text/plain": [
              "<Figure size 640x1120 with 1 Axes>"
            ]
          },
          "metadata": {},
          "output_type": "display_data"
        }
      ],
      "source": [
        "df2_mudik_kota = df2_mudik[['id','lokasi_dominan']]\n",
        "df2_mudik_kota.groupby('lokasi_dominan').count()['id'].sort_values().plot('bar', figsize=(8,14))"
      ]
    },
    {
      "cell_type": "code",
      "execution_count": null,
      "metadata": {
        "id": "146H8V7vU6ac",
        "outputId": "b0564931-ca6e-4001-cc21-c47d0b47aa58"
      },
      "outputs": [
        {
          "data": {
            "text/plain": [
              "[]"
            ]
          },
          "execution_count": 328,
          "metadata": {},
          "output_type": "execute_result"
        },
        {
          "data": {
            "image/png": "[encoded data removed]",
            "text/plain": [
              "<Figure size 800x960 with 1 Axes>"
            ]
          },
          "metadata": {},
          "output_type": "display_data"
        }
      ],
      "source": [
        "x = df2_mudik.loc[(df2_mudik['jabodetabek']=='no')].groupby('lokasi_dominan').count()['id'].sort_values(ascending=False)\n",
        "#y = df2_mudik.loc[(df2_mudik['jabodetabek']=='no')].groupby('lokasi_dominan').count()['id']\n",
        "\n",
        "\n",
        "plt.figure(figsize=(10,12))\n",
        "plt.vlines(x.index, ymin=0,ymax=x,color='firebrick', alpha=0.7, linewidth=2)\n",
        "plt.scatter(x.index, x, s=75, color='firebrick', alpha=0.7)\n",
        "plt.xticks(rotation=90)\n",
        "plt.plot()\n",
        "#plt.plot(df2_mudik['umur'])\n"
      ]
    },
    {
      "cell_type": "code",
      "execution_count": null,
      "metadata": {
        "id": "PAVV-hXKU6ac",
        "outputId": "435054cc-12fe-4d40-e79a-a6e006df5eb1"
      },
      "outputs": [
        {
          "data": {
            "text/plain": [
              "[]"
            ]
          },
          "execution_count": 330,
          "metadata": {},
          "output_type": "execute_result"
        },
        {
          "data": {
            "image/png": "[encoded data removed]",
            "text/plain": [
              "<Figure size 800x960 with 1 Axes>"
            ]
          },
          "metadata": {},
          "output_type": "display_data"
        }
      ],
      "source": [
        "#x_ax = df2_mudik.loc[(df2_mudik['jabodetabek']=='no')]['lokasi_dominan'].unique()\n",
        "x_ax = df2_mudik.loc[(df2_mudik['jabodetabek']=='no')].groupby('lokasi_dominan').count()['id'].sort_values(ascending=False)\n",
        "\n",
        "\n",
        "plt.figure(figsize=(10,12))\n",
        "plt.hlines(y=x_ax.index, xmin=0,xmax=x_ax,color='firebrick', alpha=0.7, linewidth=2)\n",
        "plt.scatter(x_ax,x_ax.index, s=75, color='firebrick', alpha=0.7)\n",
        "plt.xticks(rotation=90)\n",
        "plt.xlabel('Number of ')\n",
        "plt.plot()\n",
        "#plt.plot(df2_mudik['umur'])\n"
      ]
    },
    {
      "cell_type": "markdown",
      "metadata": {
        "id": "2vyVeNBPU6ac"
      },
      "source": [
        "### Pulau yang menjadi tujuan paling banyak"
      ]
    },
    {
      "cell_type": "code",
      "execution_count": null,
      "metadata": {
        "id": "jS52jMKCU6ac"
      },
      "outputs": [],
      "source": [
        "def cekPulau(lokasi):\n",
        "    if lokasi == 'Kota Yogyakarta' :\n",
        "        return \"Jawa\"\n",
        "    elif lokasi == 'Kota Surabaya' :\n",
        "        return \"Jawa\"\n",
        "    elif lokasi == 'Kota Semarang' :\n",
        "        return \"Jawa\"\n",
        "    elif lokasi == 'Kota Padang' :\n",
        "        return \"Sumatera\"\n",
        "    elif lokasi == 'Kota Medan':\n",
        "        return \"Sumatera\"\n",
        "    elif lokasi == 'Kota Manado' :\n",
        "        return \"Sulawesi\"\n",
        "    elif lokasi == 'Kota Bandung' :\n",
        "        return \"Jawa\"\n",
        "    elif lokasi == 'Kota Bandar Lampung' :\n",
        "        return \"Sumatera\"\n",
        "    elif lokasi == 'Kota Banda Aceh' :\n",
        "        return \"Jawa\"\n",
        "    elif lokasi == 'Kabupaten Wonogiri' :\n",
        "        return \"Jawa\"\n",
        "    elif lokasi == 'Kabupaten Tasikmalaya' :\n",
        "        return \"Jawa\"\n",
        "    elif lokasi == 'Kabupaten Sleman' :\n",
        "        return \"Jawa\"\n",
        "    elif lokasi == 'Kabupaten Lampung Selatan' :\n",
        "        return \"Sumatera\"\n",
        "    elif lokasi == 'Kabupaten Kebumen' :\n",
        "        return \"Jawa\"\n",
        "    elif lokasi == 'Kabupaten Bantul' :\n",
        "        return \"Jawa\"\n",
        "    else:\n",
        "        return \"none\"\n",
        "    "
      ]
    },
    {
      "cell_type": "code",
      "execution_count": null,
      "metadata": {
        "id": "j8HjX4SEU6ad",
        "outputId": "c16eefed-e41e-436d-efb8-2b5ab7c66c2e"
      },
      "outputs": [
        {
          "name": "stderr",
          "output_type": "stream",
          "text": [
            "C:\\Users\\Adoh\\Anaconda3\\lib\\site-packages\\ipykernel_launcher.py:1: SettingWithCopyWarning: \n",
            "A value is trying to be set on a copy of a slice from a DataFrame.\n",
            "Try using .loc[row_indexer,col_indexer] = value instead\n",
            "\n",
            "See the caveats in the documentation: http://pandas.pydata.org/pandas-docs/stable/indexing.html#indexing-view-versus-copy\n",
            "  \"\"\"Entry point for launching an IPython kernel.\n"
          ]
        }
      ],
      "source": [
        "df2_mudik['pulau'] = df2_mudik['lokasi_dominan'].apply(cekPulau)"
      ]
    },
    {
      "cell_type": "code",
      "execution_count": null,
      "metadata": {
        "id": "QPTi44TKU6ad",
        "outputId": "b907bd97-9281-47bf-a121-a4a7370870a3"
      },
      "outputs": [
        {
          "data": {
            "text/html": [
              "<div>\n",
              "<style scoped>\n",
              "    .dataframe tbody tr th:only-of-type {\n",
              "        vertical-align: middle;\n",
              "    }\n",
              "\n",
              "    .dataframe tbody tr th {\n",
              "        vertical-align: top;\n",
              "    }\n",
              "\n",
              "    .dataframe thead th {\n",
              "        text-align: right;\n",
              "    }\n",
              "</style>\n",
              "<table border=\"1\" class=\"dataframe\">\n",
              "  <thead>\n",
              "    <tr style=\"text-align: right;\">\n",
              "      <th></th>\n",
              "      <th>id</th>\n",
              "      <th>tanggal</th>\n",
              "      <th>lokasi_dominan</th>\n",
              "      <th>jenis_kelamin</th>\n",
              "      <th>divisi</th>\n",
              "      <th>umur</th>\n",
              "      <th>jabodetabek</th>\n",
              "      <th>pulau</th>\n",
              "    </tr>\n",
              "  </thead>\n",
              "  <tbody>\n",
              "    <tr>\n",
              "      <th>249</th>\n",
              "      <td>1</td>\n",
              "      <td>2019-06-05</td>\n",
              "      <td>Kota Padang</td>\n",
              "      <td>Laki-laki</td>\n",
              "      <td>Customer Service</td>\n",
              "      <td>34</td>\n",
              "      <td>no</td>\n",
              "      <td>Sumatera</td>\n",
              "    </tr>\n",
              "    <tr>\n",
              "      <th>521</th>\n",
              "      <td>2</td>\n",
              "      <td>2019-06-05</td>\n",
              "      <td>Kota Manado</td>\n",
              "      <td>Laki-laki</td>\n",
              "      <td>Data Engineer</td>\n",
              "      <td>26</td>\n",
              "      <td>no</td>\n",
              "      <td>Sulawesi</td>\n",
              "    </tr>\n",
              "    <tr>\n",
              "      <th>252</th>\n",
              "      <td>3</td>\n",
              "      <td>2019-06-05</td>\n",
              "      <td>Kota Padang</td>\n",
              "      <td>Laki-laki</td>\n",
              "      <td>Software Engineer</td>\n",
              "      <td>28</td>\n",
              "      <td>no</td>\n",
              "      <td>Sumatera</td>\n",
              "    </tr>\n",
              "    <tr>\n",
              "      <th>927</th>\n",
              "      <td>4</td>\n",
              "      <td>2019-06-05</td>\n",
              "      <td>Kota Bandar Lampung</td>\n",
              "      <td>Perempuan</td>\n",
              "      <td>Business Intelligence</td>\n",
              "      <td>21</td>\n",
              "      <td>no</td>\n",
              "      <td>Sumatera</td>\n",
              "    </tr>\n",
              "    <tr>\n",
              "      <th>1273</th>\n",
              "      <td>5</td>\n",
              "      <td>2019-06-05</td>\n",
              "      <td>Kota Yogyakarta</td>\n",
              "      <td>Perempuan</td>\n",
              "      <td>Software Engineer</td>\n",
              "      <td>21</td>\n",
              "      <td>no</td>\n",
              "      <td>Jawa</td>\n",
              "    </tr>\n",
              "  </tbody>\n",
              "</table>\n",
              "</div>"
            ],
            "text/plain": [
              "      id    tanggal       lokasi_dominan jenis_kelamin                 divisi  \\\n",
              "249    1 2019-06-05          Kota Padang     Laki-laki       Customer Service   \n",
              "521    2 2019-06-05          Kota Manado     Laki-laki          Data Engineer   \n",
              "252    3 2019-06-05          Kota Padang     Laki-laki      Software Engineer   \n",
              "927    4 2019-06-05  Kota Bandar Lampung     Perempuan  Business Intelligence   \n",
              "1273   5 2019-06-05      Kota Yogyakarta     Perempuan      Software Engineer   \n",
              "\n",
              "      umur jabodetabek     pulau  \n",
              "249     34          no  Sumatera  \n",
              "521     26          no  Sulawesi  \n",
              "252     28          no  Sumatera  \n",
              "927     21          no  Sumatera  \n",
              "1273    21          no      Jawa  "
            ]
          },
          "execution_count": 333,
          "metadata": {},
          "output_type": "execute_result"
        }
      ],
      "source": [
        "df2_mudik_pulau = df2_mudik.groupby('id').tail(1)\n",
        "df2_mudik_pulau.head()"
      ]
    },
    {
      "cell_type": "code",
      "execution_count": null,
      "metadata": {
        "id": "jStTdIy9U6ad",
        "outputId": "df8ae738-cdfe-46d9-dc65-9511d571e19b"
      },
      "outputs": [
        {
          "name": "stderr",
          "output_type": "stream",
          "text": [
            "C:\\Users\\Adoh\\Anaconda3\\lib\\site-packages\\pandas\\plotting\\_core.py:186: UserWarning: 'colors' is being deprecated. Please use 'color'instead of 'colors'\n",
            "  warnings.warn((\"'colors' is being deprecated. Please use 'color'\"\n"
          ]
        },
        {
          "data": {
            "text/plain": [
              "<matplotlib.axes._subplots.AxesSubplot at 0x1345b1ce208>"
            ]
          },
          "execution_count": 335,
          "metadata": {},
          "output_type": "execute_result"
        },
        {
          "data": {
            "image/png": "[encoded data removed]",
            "text/plain": [
              "<Figure size 960x1120 with 1 Axes>"
            ]
          },
          "metadata": {},
          "output_type": "display_data"
        }
      ],
      "source": [
        "df2_mudik_pulau.groupby('pulau').count()['id'].sort_values(ascending=False).plot(kind='bar', colors=color_arr[-3:], figsize=(12,14))"
      ]
    },
    {
      "cell_type": "markdown",
      "metadata": {
        "id": "9-WO8seAU6ad"
      },
      "source": [
        "### Cek moda transportasi"
      ]
    },
    {
      "cell_type": "code",
      "execution_count": null,
      "metadata": {
        "id": "fzxhM8EyU6ad"
      },
      "outputs": [],
      "source": [
        "def cekModa(lokasi):\n",
        "    if lokasi == 'Kota Yogyakarta' :\n",
        "        return \"Kereta Api\"\n",
        "    elif lokasi == 'Kota Surabaya' :\n",
        "        return \"Pesawat\"\n",
        "    elif lokasi == 'Kota Semarang' :\n",
        "        return \"Kereta Api\"\n",
        "    elif lokasi == 'Kota Padang' :\n",
        "        return \"Pesawat\"\n",
        "    elif lokasi == 'Kota Medan':\n",
        "        return \"Pesawat\"\n",
        "    elif lokasi == 'Kota Manado' :\n",
        "        return \"Pesawat\"\n",
        "    elif lokasi == 'Kota Bandung' :\n",
        "        return \"Kereta Api\"\n",
        "    elif lokasi == 'Kota Bandar Lampung' :\n",
        "        return \"Pesawat\"\n",
        "    elif lokasi == 'Kota Banda Aceh' :\n",
        "        return \"Pesawat\"\n",
        "    elif lokasi == 'Kabupaten Wonogiri' :\n",
        "        return \"Kereta Api\"\n",
        "    elif lokasi == 'Kabupaten Tasikmalaya' :\n",
        "        return \"Bus\"\n",
        "    elif lokasi == 'Kabupaten Sleman' :\n",
        "        return \"Kereta Api\"\n",
        "    elif lokasi == 'Kabupaten Lampung Selatan' :\n",
        "        return \"Bus\"\n",
        "    elif lokasi == 'Kabupaten Kebumen' :\n",
        "        return \"Kereta Api\"\n",
        "    elif lokasi == 'Kabupaten Bantul' :\n",
        "        return \"Kereta Api\"\n",
        "    else:\n",
        "        return \"none\""
      ]
    },
    {
      "cell_type": "code",
      "execution_count": null,
      "metadata": {
        "id": "KLGLSK8uU6ad",
        "outputId": "482b686f-1504-4929-daea-b0db4332c0fe"
      },
      "outputs": [
        {
          "name": "stderr",
          "output_type": "stream",
          "text": [
            "C:\\Users\\Adoh\\Anaconda3\\lib\\site-packages\\ipykernel_launcher.py:1: SettingWithCopyWarning: \n",
            "A value is trying to be set on a copy of a slice from a DataFrame.\n",
            "Try using .loc[row_indexer,col_indexer] = value instead\n",
            "\n",
            "See the caveats in the documentation: http://pandas.pydata.org/pandas-docs/stable/indexing.html#indexing-view-versus-copy\n",
            "  \"\"\"Entry point for launching an IPython kernel.\n"
          ]
        }
      ],
      "source": [
        "df2_mudik['moda'] = df2_mudik['lokasi_dominan'].apply(cekModa)"
      ]
    },
    {
      "cell_type": "code",
      "execution_count": null,
      "metadata": {
        "id": "ijfAbvenU6ae",
        "outputId": "6d46248f-bb3c-4a58-92ac-a46f800c7618"
      },
      "outputs": [
        {
          "data": {
            "text/plain": [
              "(91, 2)"
            ]
          },
          "execution_count": 338,
          "metadata": {},
          "output_type": "execute_result"
        }
      ],
      "source": [
        "df2_mudik_moda = df2_mudik[['id','moda']]\n",
        "df2_mudik_moda.shape"
      ]
    },
    {
      "cell_type": "code",
      "execution_count": null,
      "metadata": {
        "id": "VQdqTZ4LU6ae",
        "outputId": "01560eeb-9e65-49f8-a3fa-82152f60ebe9"
      },
      "outputs": [
        {
          "data": {
            "text/plain": [
              "<matplotlib.axes._subplots.AxesSubplot at 0x13458ec2828>"
            ]
          },
          "execution_count": 339,
          "metadata": {},
          "output_type": "execute_result"
        },
        {
          "data": {
            "image/png": "[encoded data removed]",
            "text/plain": [
              "<Figure size 640x640 with 1 Axes>"
            ]
          },
          "metadata": {},
          "output_type": "display_data"
        }
      ],
      "source": [
        "df2_mudik_moda.groupby('moda').count()['id'].plot(kind='pie',colors=color_arr[1:],autopct='%.1f%%', figsize=(8,8), shadow=True,startangle=45)"
      ]
    },
    {
      "cell_type": "code",
      "execution_count": null,
      "metadata": {
        "id": "vyTd5DxrU6ae",
        "outputId": "86765038-cc0f-436c-9d8f-279a83b3c98f"
      },
      "outputs": [
        {
          "data": {
            "text/plain": [
              "(1600, 7)"
            ]
          },
          "execution_count": 341,
          "metadata": {},
          "output_type": "execute_result"
        }
      ],
      "source": [
        "df2.shape"
      ]
    },
    {
      "cell_type": "markdown",
      "metadata": {
        "id": "0c6eVvR_U6ae"
      },
      "source": [
        "### cari tau tanggal mudik "
      ]
    },
    {
      "cell_type": "code",
      "execution_count": null,
      "metadata": {
        "id": "vlZt36SxU6ae"
      },
      "outputs": [],
      "source": [
        "df2_mudik_tanggal = pd.merge(df2_mudik[['id']], df2, on='id',how='inner')\n",
        "df2_mudik_tanggal.sort_values(by=['id','tanggal'], inplace=True)"
      ]
    },
    {
      "cell_type": "code",
      "execution_count": null,
      "metadata": {
        "id": "292jNEB-U6ae"
      },
      "outputs": [],
      "source": [
        "df2_mudik_tanggal = df2_mudik_tanggal.groupby(['id','lokasi_dominan','jabodetabek']).head(1)\n",
        "df2_mudik_tanggal.drop(df2_mudik_tanggal.loc[(df2_mudik_tanggal['jabodetabek']=='yes')].index, inplace=True)"
      ]
    },
    {
      "cell_type": "code",
      "execution_count": null,
      "metadata": {
        "id": "Qr-zI-udU6af",
        "outputId": "19aeddea-d04d-4929-d043-00d1a2f0cc83"
      },
      "outputs": [
        {
          "data": {
            "text/html": [
              "<div>\n",
              "<style scoped>\n",
              "    .dataframe tbody tr th:only-of-type {\n",
              "        vertical-align: middle;\n",
              "    }\n",
              "\n",
              "    .dataframe tbody tr th {\n",
              "        vertical-align: top;\n",
              "    }\n",
              "\n",
              "    .dataframe thead th {\n",
              "        text-align: right;\n",
              "    }\n",
              "</style>\n",
              "<table border=\"1\" class=\"dataframe\">\n",
              "  <thead>\n",
              "    <tr style=\"text-align: right;\">\n",
              "      <th></th>\n",
              "      <th>id</th>\n",
              "      <th>tanggal</th>\n",
              "      <th>lokasi_dominan</th>\n",
              "      <th>jenis_kelamin</th>\n",
              "      <th>divisi</th>\n",
              "      <th>umur</th>\n",
              "      <th>jabodetabek</th>\n",
              "    </tr>\n",
              "  </thead>\n",
              "  <tbody>\n",
              "    <tr>\n",
              "      <th>5</th>\n",
              "      <td>1</td>\n",
              "      <td>2019-05-26</td>\n",
              "      <td>Kota Medan</td>\n",
              "      <td>Laki-laki</td>\n",
              "      <td>Customer Service</td>\n",
              "      <td>34</td>\n",
              "      <td>no</td>\n",
              "    </tr>\n",
              "    <tr>\n",
              "      <th>7</th>\n",
              "      <td>1</td>\n",
              "      <td>2019-05-28</td>\n",
              "      <td>Kota Padang</td>\n",
              "      <td>Laki-laki</td>\n",
              "      <td>Customer Service</td>\n",
              "      <td>34</td>\n",
              "      <td>no</td>\n",
              "    </tr>\n",
              "    <tr>\n",
              "      <th>25</th>\n",
              "      <td>2</td>\n",
              "      <td>2019-05-30</td>\n",
              "      <td>Kota Manado</td>\n",
              "      <td>Laki-laki</td>\n",
              "      <td>Data Engineer</td>\n",
              "      <td>26</td>\n",
              "      <td>no</td>\n",
              "    </tr>\n",
              "    <tr>\n",
              "      <th>45</th>\n",
              "      <td>3</td>\n",
              "      <td>2019-06-03</td>\n",
              "      <td>Kota Padang</td>\n",
              "      <td>Laki-laki</td>\n",
              "      <td>Software Engineer</td>\n",
              "      <td>28</td>\n",
              "      <td>no</td>\n",
              "    </tr>\n",
              "    <tr>\n",
              "      <th>58</th>\n",
              "      <td>4</td>\n",
              "      <td>2019-05-31</td>\n",
              "      <td>Kota Bandar Lampung</td>\n",
              "      <td>Perempuan</td>\n",
              "      <td>Business Intelligence</td>\n",
              "      <td>21</td>\n",
              "      <td>no</td>\n",
              "    </tr>\n",
              "    <tr>\n",
              "      <th>61</th>\n",
              "      <td>4</td>\n",
              "      <td>2019-06-03</td>\n",
              "      <td>Kabupaten Lampung Selatan</td>\n",
              "      <td>Perempuan</td>\n",
              "      <td>Business Intelligence</td>\n",
              "      <td>21</td>\n",
              "      <td>no</td>\n",
              "    </tr>\n",
              "    <tr>\n",
              "      <th>73</th>\n",
              "      <td>5</td>\n",
              "      <td>2019-05-30</td>\n",
              "      <td>Kota Bandung</td>\n",
              "      <td>Perempuan</td>\n",
              "      <td>Software Engineer</td>\n",
              "      <td>21</td>\n",
              "      <td>no</td>\n",
              "    </tr>\n",
              "    <tr>\n",
              "      <th>74</th>\n",
              "      <td>5</td>\n",
              "      <td>2019-05-31</td>\n",
              "      <td>Kota Yogyakarta</td>\n",
              "      <td>Perempuan</td>\n",
              "      <td>Software Engineer</td>\n",
              "      <td>21</td>\n",
              "      <td>no</td>\n",
              "    </tr>\n",
              "    <tr>\n",
              "      <th>87</th>\n",
              "      <td>6</td>\n",
              "      <td>2019-05-28</td>\n",
              "      <td>Kabupaten Wonogiri</td>\n",
              "      <td>Laki-laki</td>\n",
              "      <td>Business Intelligence</td>\n",
              "      <td>28</td>\n",
              "      <td>no</td>\n",
              "    </tr>\n",
              "    <tr>\n",
              "      <th>90</th>\n",
              "      <td>6</td>\n",
              "      <td>2019-05-31</td>\n",
              "      <td>Kabupaten Sleman</td>\n",
              "      <td>Laki-laki</td>\n",
              "      <td>Business Intelligence</td>\n",
              "      <td>28</td>\n",
              "      <td>no</td>\n",
              "    </tr>\n",
              "    <tr>\n",
              "      <th>106</th>\n",
              "      <td>7</td>\n",
              "      <td>2019-05-31</td>\n",
              "      <td>Kota Medan</td>\n",
              "      <td>Perempuan</td>\n",
              "      <td>Software Engineer</td>\n",
              "      <td>21</td>\n",
              "      <td>no</td>\n",
              "    </tr>\n",
              "    <tr>\n",
              "      <th>123</th>\n",
              "      <td>8</td>\n",
              "      <td>2019-06-01</td>\n",
              "      <td>Kota Manado</td>\n",
              "      <td>Laki-laki</td>\n",
              "      <td>Customer Service</td>\n",
              "      <td>22</td>\n",
              "      <td>no</td>\n",
              "    </tr>\n",
              "    <tr>\n",
              "      <th>124</th>\n",
              "      <td>8</td>\n",
              "      <td>2019-06-02</td>\n",
              "      <td>Kota Semarang</td>\n",
              "      <td>Laki-laki</td>\n",
              "      <td>Customer Service</td>\n",
              "      <td>22</td>\n",
              "      <td>no</td>\n",
              "    </tr>\n",
              "    <tr>\n",
              "      <th>136</th>\n",
              "      <td>9</td>\n",
              "      <td>2019-05-29</td>\n",
              "      <td>Kota Padang</td>\n",
              "      <td>Perempuan</td>\n",
              "      <td>Business Intelligence</td>\n",
              "      <td>21</td>\n",
              "      <td>no</td>\n",
              "    </tr>\n",
              "    <tr>\n",
              "      <th>147</th>\n",
              "      <td>10</td>\n",
              "      <td>2019-05-24</td>\n",
              "      <td>Kabupaten Bantul</td>\n",
              "      <td>Laki-laki</td>\n",
              "      <td>Data Science</td>\n",
              "      <td>21</td>\n",
              "      <td>no</td>\n",
              "    </tr>\n",
              "    <tr>\n",
              "      <th>148</th>\n",
              "      <td>10</td>\n",
              "      <td>2019-05-25</td>\n",
              "      <td>Kota Yogyakarta</td>\n",
              "      <td>Laki-laki</td>\n",
              "      <td>Data Science</td>\n",
              "      <td>21</td>\n",
              "      <td>no</td>\n",
              "    </tr>\n",
              "    <tr>\n",
              "      <th>171</th>\n",
              "      <td>11</td>\n",
              "      <td>2019-06-01</td>\n",
              "      <td>Kabupaten Sleman</td>\n",
              "      <td>Perempuan</td>\n",
              "      <td>Marketing</td>\n",
              "      <td>25</td>\n",
              "      <td>no</td>\n",
              "    </tr>\n",
              "    <tr>\n",
              "      <th>184</th>\n",
              "      <td>12</td>\n",
              "      <td>2019-05-29</td>\n",
              "      <td>Kabupaten Sleman</td>\n",
              "      <td>Laki-laki</td>\n",
              "      <td>Customer Service</td>\n",
              "      <td>28</td>\n",
              "      <td>no</td>\n",
              "    </tr>\n",
              "    <tr>\n",
              "      <th>185</th>\n",
              "      <td>12</td>\n",
              "      <td>2019-05-30</td>\n",
              "      <td>Kabupaten Bantul</td>\n",
              "      <td>Laki-laki</td>\n",
              "      <td>Customer Service</td>\n",
              "      <td>28</td>\n",
              "      <td>no</td>\n",
              "    </tr>\n",
              "    <tr>\n",
              "      <th>199</th>\n",
              "      <td>13</td>\n",
              "      <td>2019-05-28</td>\n",
              "      <td>Kabupaten Tasikmalaya</td>\n",
              "      <td>Laki-laki</td>\n",
              "      <td>Data Engineer</td>\n",
              "      <td>25</td>\n",
              "      <td>no</td>\n",
              "    </tr>\n",
              "    <tr>\n",
              "      <th>218</th>\n",
              "      <td>14</td>\n",
              "      <td>2019-05-31</td>\n",
              "      <td>Kabupaten Lampung Selatan</td>\n",
              "      <td>Laki-laki</td>\n",
              "      <td>Data Engineer</td>\n",
              "      <td>25</td>\n",
              "      <td>no</td>\n",
              "    </tr>\n",
              "    <tr>\n",
              "      <th>234</th>\n",
              "      <td>15</td>\n",
              "      <td>2019-05-31</td>\n",
              "      <td>Kota Bandung</td>\n",
              "      <td>Laki-laki</td>\n",
              "      <td>Data Engineer</td>\n",
              "      <td>33</td>\n",
              "      <td>no</td>\n",
              "    </tr>\n",
              "    <tr>\n",
              "      <th>242</th>\n",
              "      <td>17</td>\n",
              "      <td>2019-05-23</td>\n",
              "      <td>Kota Yogyakarta</td>\n",
              "      <td>Laki-laki</td>\n",
              "      <td>Software Engineer</td>\n",
              "      <td>23</td>\n",
              "      <td>no</td>\n",
              "    </tr>\n",
              "    <tr>\n",
              "      <th>248</th>\n",
              "      <td>17</td>\n",
              "      <td>2019-05-29</td>\n",
              "      <td>Kota Medan</td>\n",
              "      <td>Laki-laki</td>\n",
              "      <td>Software Engineer</td>\n",
              "      <td>23</td>\n",
              "      <td>no</td>\n",
              "    </tr>\n",
              "    <tr>\n",
              "      <th>265</th>\n",
              "      <td>18</td>\n",
              "      <td>2019-05-30</td>\n",
              "      <td>Kota Semarang</td>\n",
              "      <td>Laki-laki</td>\n",
              "      <td>Software Engineer</td>\n",
              "      <td>23</td>\n",
              "      <td>no</td>\n",
              "    </tr>\n",
              "    <tr>\n",
              "      <th>268</th>\n",
              "      <td>18</td>\n",
              "      <td>2019-06-02</td>\n",
              "      <td>Kabupaten Kebumen</td>\n",
              "      <td>Laki-laki</td>\n",
              "      <td>Software Engineer</td>\n",
              "      <td>23</td>\n",
              "      <td>no</td>\n",
              "    </tr>\n",
              "    <tr>\n",
              "      <th>278</th>\n",
              "      <td>19</td>\n",
              "      <td>2019-05-27</td>\n",
              "      <td>Kabupaten Tasikmalaya</td>\n",
              "      <td>Laki-laki</td>\n",
              "      <td>Customer Service</td>\n",
              "      <td>31</td>\n",
              "      <td>no</td>\n",
              "    </tr>\n",
              "    <tr>\n",
              "      <th>280</th>\n",
              "      <td>19</td>\n",
              "      <td>2019-05-29</td>\n",
              "      <td>Kota Bandar Lampung</td>\n",
              "      <td>Laki-laki</td>\n",
              "      <td>Customer Service</td>\n",
              "      <td>31</td>\n",
              "      <td>no</td>\n",
              "    </tr>\n",
              "    <tr>\n",
              "      <th>281</th>\n",
              "      <td>19</td>\n",
              "      <td>2019-05-30</td>\n",
              "      <td>Kota Medan</td>\n",
              "      <td>Laki-laki</td>\n",
              "      <td>Customer Service</td>\n",
              "      <td>31</td>\n",
              "      <td>no</td>\n",
              "    </tr>\n",
              "    <tr>\n",
              "      <th>283</th>\n",
              "      <td>19</td>\n",
              "      <td>2019-06-01</td>\n",
              "      <td>Kota Yogyakarta</td>\n",
              "      <td>Laki-laki</td>\n",
              "      <td>Customer Service</td>\n",
              "      <td>31</td>\n",
              "      <td>no</td>\n",
              "    </tr>\n",
              "    <tr>\n",
              "      <th>...</th>\n",
              "      <td>...</td>\n",
              "      <td>...</td>\n",
              "      <td>...</td>\n",
              "      <td>...</td>\n",
              "      <td>...</td>\n",
              "      <td>...</td>\n",
              "      <td>...</td>\n",
              "    </tr>\n",
              "    <tr>\n",
              "      <th>1000</th>\n",
              "      <td>65</td>\n",
              "      <td>2019-05-29</td>\n",
              "      <td>Kota Yogyakarta</td>\n",
              "      <td>Laki-laki</td>\n",
              "      <td>Business Intelligence</td>\n",
              "      <td>33</td>\n",
              "      <td>no</td>\n",
              "    </tr>\n",
              "    <tr>\n",
              "      <th>1018</th>\n",
              "      <td>66</td>\n",
              "      <td>2019-05-31</td>\n",
              "      <td>Kota Bandar Lampung</td>\n",
              "      <td>Perempuan</td>\n",
              "      <td>Marketing</td>\n",
              "      <td>26</td>\n",
              "      <td>no</td>\n",
              "    </tr>\n",
              "    <tr>\n",
              "      <th>1037</th>\n",
              "      <td>67</td>\n",
              "      <td>2019-06-03</td>\n",
              "      <td>Kota Banda Aceh</td>\n",
              "      <td>Laki-laki</td>\n",
              "      <td>Data Engineer</td>\n",
              "      <td>28</td>\n",
              "      <td>no</td>\n",
              "    </tr>\n",
              "    <tr>\n",
              "      <th>1051</th>\n",
              "      <td>68</td>\n",
              "      <td>2019-06-01</td>\n",
              "      <td>Kota Bandar Lampung</td>\n",
              "      <td>Laki-laki</td>\n",
              "      <td>Data Engineer</td>\n",
              "      <td>33</td>\n",
              "      <td>no</td>\n",
              "    </tr>\n",
              "    <tr>\n",
              "      <th>1065</th>\n",
              "      <td>69</td>\n",
              "      <td>2019-05-30</td>\n",
              "      <td>Kota Yogyakarta</td>\n",
              "      <td>Laki-laki</td>\n",
              "      <td>Customer Service</td>\n",
              "      <td>32</td>\n",
              "      <td>no</td>\n",
              "    </tr>\n",
              "    <tr>\n",
              "      <th>1082</th>\n",
              "      <td>70</td>\n",
              "      <td>2019-05-31</td>\n",
              "      <td>Kota Surabaya</td>\n",
              "      <td>Perempuan</td>\n",
              "      <td>Software Engineer</td>\n",
              "      <td>29</td>\n",
              "      <td>no</td>\n",
              "    </tr>\n",
              "    <tr>\n",
              "      <th>1098</th>\n",
              "      <td>71</td>\n",
              "      <td>2019-05-31</td>\n",
              "      <td>Kabupaten Bantul</td>\n",
              "      <td>Laki-laki</td>\n",
              "      <td>Business Intelligence</td>\n",
              "      <td>33</td>\n",
              "      <td>no</td>\n",
              "    </tr>\n",
              "    <tr>\n",
              "      <th>1114</th>\n",
              "      <td>72</td>\n",
              "      <td>2019-05-31</td>\n",
              "      <td>Kota Semarang</td>\n",
              "      <td>Perempuan</td>\n",
              "      <td>Business Intelligence</td>\n",
              "      <td>22</td>\n",
              "      <td>no</td>\n",
              "    </tr>\n",
              "    <tr>\n",
              "      <th>1132</th>\n",
              "      <td>73</td>\n",
              "      <td>2019-06-02</td>\n",
              "      <td>Kabupaten Sleman</td>\n",
              "      <td>Laki-laki</td>\n",
              "      <td>Data Science</td>\n",
              "      <td>24</td>\n",
              "      <td>no</td>\n",
              "    </tr>\n",
              "    <tr>\n",
              "      <th>1146</th>\n",
              "      <td>79</td>\n",
              "      <td>2019-05-31</td>\n",
              "      <td>Kabupaten Bantul</td>\n",
              "      <td>Perempuan</td>\n",
              "      <td>Data Engineer</td>\n",
              "      <td>25</td>\n",
              "      <td>no</td>\n",
              "    </tr>\n",
              "    <tr>\n",
              "      <th>1147</th>\n",
              "      <td>79</td>\n",
              "      <td>2019-06-01</td>\n",
              "      <td>Kota Yogyakarta</td>\n",
              "      <td>Perempuan</td>\n",
              "      <td>Data Engineer</td>\n",
              "      <td>25</td>\n",
              "      <td>no</td>\n",
              "    </tr>\n",
              "    <tr>\n",
              "      <th>1165</th>\n",
              "      <td>80</td>\n",
              "      <td>2019-06-03</td>\n",
              "      <td>Kabupaten Lampung Selatan</td>\n",
              "      <td>Perempuan</td>\n",
              "      <td>Data Science</td>\n",
              "      <td>33</td>\n",
              "      <td>no</td>\n",
              "    </tr>\n",
              "    <tr>\n",
              "      <th>1177</th>\n",
              "      <td>81</td>\n",
              "      <td>2019-05-30</td>\n",
              "      <td>Kota Yogyakarta</td>\n",
              "      <td>Laki-laki</td>\n",
              "      <td>Data Science</td>\n",
              "      <td>30</td>\n",
              "      <td>no</td>\n",
              "    </tr>\n",
              "    <tr>\n",
              "      <th>1194</th>\n",
              "      <td>82</td>\n",
              "      <td>2019-05-31</td>\n",
              "      <td>Kabupaten Wonogiri</td>\n",
              "      <td>Laki-laki</td>\n",
              "      <td>Customer Service</td>\n",
              "      <td>27</td>\n",
              "      <td>no</td>\n",
              "    </tr>\n",
              "    <tr>\n",
              "      <th>1210</th>\n",
              "      <td>83</td>\n",
              "      <td>2019-05-31</td>\n",
              "      <td>Kabupaten Lampung Selatan</td>\n",
              "      <td>Laki-laki</td>\n",
              "      <td>Business Intelligence</td>\n",
              "      <td>25</td>\n",
              "      <td>no</td>\n",
              "    </tr>\n",
              "    <tr>\n",
              "      <th>1227</th>\n",
              "      <td>84</td>\n",
              "      <td>2019-06-01</td>\n",
              "      <td>Kota Padang</td>\n",
              "      <td>Laki-laki</td>\n",
              "      <td>Software Engineer</td>\n",
              "      <td>32</td>\n",
              "      <td>no</td>\n",
              "    </tr>\n",
              "    <tr>\n",
              "      <th>1243</th>\n",
              "      <td>85</td>\n",
              "      <td>2019-06-01</td>\n",
              "      <td>Kabupaten Sleman</td>\n",
              "      <td>Laki-laki</td>\n",
              "      <td>Customer Service</td>\n",
              "      <td>34</td>\n",
              "      <td>no</td>\n",
              "    </tr>\n",
              "    <tr>\n",
              "      <th>1258</th>\n",
              "      <td>87</td>\n",
              "      <td>2019-05-31</td>\n",
              "      <td>Kota Medan</td>\n",
              "      <td>Laki-laki</td>\n",
              "      <td>Business Intelligence</td>\n",
              "      <td>22</td>\n",
              "      <td>no</td>\n",
              "    </tr>\n",
              "    <tr>\n",
              "      <th>1271</th>\n",
              "      <td>88</td>\n",
              "      <td>2019-05-28</td>\n",
              "      <td>Kota Padang</td>\n",
              "      <td>Laki-laki</td>\n",
              "      <td>Marketing</td>\n",
              "      <td>24</td>\n",
              "      <td>no</td>\n",
              "    </tr>\n",
              "    <tr>\n",
              "      <th>1292</th>\n",
              "      <td>90</td>\n",
              "      <td>2019-06-02</td>\n",
              "      <td>Kota Semarang</td>\n",
              "      <td>Laki-laki</td>\n",
              "      <td>Business Intelligence</td>\n",
              "      <td>23</td>\n",
              "      <td>no</td>\n",
              "    </tr>\n",
              "    <tr>\n",
              "      <th>1302</th>\n",
              "      <td>91</td>\n",
              "      <td>2019-05-27</td>\n",
              "      <td>Kabupaten Bantul</td>\n",
              "      <td>Laki-laki</td>\n",
              "      <td>Data Engineer</td>\n",
              "      <td>27</td>\n",
              "      <td>no</td>\n",
              "    </tr>\n",
              "    <tr>\n",
              "      <th>1320</th>\n",
              "      <td>92</td>\n",
              "      <td>2019-05-29</td>\n",
              "      <td>Kabupaten Wonogiri</td>\n",
              "      <td>Laki-laki</td>\n",
              "      <td>Customer Service</td>\n",
              "      <td>27</td>\n",
              "      <td>no</td>\n",
              "    </tr>\n",
              "    <tr>\n",
              "      <th>1339</th>\n",
              "      <td>93</td>\n",
              "      <td>2019-06-01</td>\n",
              "      <td>Kota Padang</td>\n",
              "      <td>Perempuan</td>\n",
              "      <td>Data Science</td>\n",
              "      <td>27</td>\n",
              "      <td>no</td>\n",
              "    </tr>\n",
              "    <tr>\n",
              "      <th>1356</th>\n",
              "      <td>94</td>\n",
              "      <td>2019-06-02</td>\n",
              "      <td>Kota Medan</td>\n",
              "      <td>Laki-laki</td>\n",
              "      <td>Data Engineer</td>\n",
              "      <td>28</td>\n",
              "      <td>no</td>\n",
              "    </tr>\n",
              "    <tr>\n",
              "      <th>1372</th>\n",
              "      <td>95</td>\n",
              "      <td>2019-06-02</td>\n",
              "      <td>Kota Bandung</td>\n",
              "      <td>Laki-laki</td>\n",
              "      <td>Customer Service</td>\n",
              "      <td>34</td>\n",
              "      <td>no</td>\n",
              "    </tr>\n",
              "    <tr>\n",
              "      <th>1385</th>\n",
              "      <td>96</td>\n",
              "      <td>2019-05-30</td>\n",
              "      <td>Kota Yogyakarta</td>\n",
              "      <td>Perempuan</td>\n",
              "      <td>Customer Service</td>\n",
              "      <td>23</td>\n",
              "      <td>no</td>\n",
              "    </tr>\n",
              "    <tr>\n",
              "      <th>1404</th>\n",
              "      <td>97</td>\n",
              "      <td>2019-06-02</td>\n",
              "      <td>Kota Bandar Lampung</td>\n",
              "      <td>Laki-laki</td>\n",
              "      <td>Software Engineer</td>\n",
              "      <td>32</td>\n",
              "      <td>no</td>\n",
              "    </tr>\n",
              "    <tr>\n",
              "      <th>1416</th>\n",
              "      <td>98</td>\n",
              "      <td>2019-05-29</td>\n",
              "      <td>Kota Yogyakarta</td>\n",
              "      <td>Perempuan</td>\n",
              "      <td>Business Intelligence</td>\n",
              "      <td>28</td>\n",
              "      <td>no</td>\n",
              "    </tr>\n",
              "    <tr>\n",
              "      <th>1433</th>\n",
              "      <td>99</td>\n",
              "      <td>2019-05-30</td>\n",
              "      <td>Kabupaten Wonogiri</td>\n",
              "      <td>Perempuan</td>\n",
              "      <td>Software Engineer</td>\n",
              "      <td>25</td>\n",
              "      <td>no</td>\n",
              "    </tr>\n",
              "    <tr>\n",
              "      <th>1449</th>\n",
              "      <td>100</td>\n",
              "      <td>2019-05-30</td>\n",
              "      <td>Kabupaten Sleman</td>\n",
              "      <td>Perempuan</td>\n",
              "      <td>Software Engineer</td>\n",
              "      <td>29</td>\n",
              "      <td>no</td>\n",
              "    </tr>\n",
              "  </tbody>\n",
              "</table>\n",
              "<p>111 rows × 7 columns</p>\n",
              "</div>"
            ],
            "text/plain": [
              "       id    tanggal             lokasi_dominan jenis_kelamin  \\\n",
              "5       1 2019-05-26                 Kota Medan     Laki-laki   \n",
              "7       1 2019-05-28                Kota Padang     Laki-laki   \n",
              "25      2 2019-05-30                Kota Manado     Laki-laki   \n",
              "45      3 2019-06-03                Kota Padang     Laki-laki   \n",
              "58      4 2019-05-31        Kota Bandar Lampung     Perempuan   \n",
              "61      4 2019-06-03  Kabupaten Lampung Selatan     Perempuan   \n",
              "73      5 2019-05-30               Kota Bandung     Perempuan   \n",
              "74      5 2019-05-31            Kota Yogyakarta     Perempuan   \n",
              "87      6 2019-05-28         Kabupaten Wonogiri     Laki-laki   \n",
              "90      6 2019-05-31           Kabupaten Sleman     Laki-laki   \n",
              "106     7 2019-05-31                 Kota Medan     Perempuan   \n",
              "123     8 2019-06-01                Kota Manado     Laki-laki   \n",
              "124     8 2019-06-02              Kota Semarang     Laki-laki   \n",
              "136     9 2019-05-29                Kota Padang     Perempuan   \n",
              "147    10 2019-05-24           Kabupaten Bantul     Laki-laki   \n",
              "148    10 2019-05-25            Kota Yogyakarta     Laki-laki   \n",
              "171    11 2019-06-01           Kabupaten Sleman     Perempuan   \n",
              "184    12 2019-05-29           Kabupaten Sleman     Laki-laki   \n",
              "185    12 2019-05-30           Kabupaten Bantul     Laki-laki   \n",
              "199    13 2019-05-28      Kabupaten Tasikmalaya     Laki-laki   \n",
              "218    14 2019-05-31  Kabupaten Lampung Selatan     Laki-laki   \n",
              "234    15 2019-05-31               Kota Bandung     Laki-laki   \n",
              "242    17 2019-05-23            Kota Yogyakarta     Laki-laki   \n",
              "248    17 2019-05-29                 Kota Medan     Laki-laki   \n",
              "265    18 2019-05-30              Kota Semarang     Laki-laki   \n",
              "268    18 2019-06-02          Kabupaten Kebumen     Laki-laki   \n",
              "278    19 2019-05-27      Kabupaten Tasikmalaya     Laki-laki   \n",
              "280    19 2019-05-29        Kota Bandar Lampung     Laki-laki   \n",
              "281    19 2019-05-30                 Kota Medan     Laki-laki   \n",
              "283    19 2019-06-01            Kota Yogyakarta     Laki-laki   \n",
              "...   ...        ...                        ...           ...   \n",
              "1000   65 2019-05-29            Kota Yogyakarta     Laki-laki   \n",
              "1018   66 2019-05-31        Kota Bandar Lampung     Perempuan   \n",
              "1037   67 2019-06-03            Kota Banda Aceh     Laki-laki   \n",
              "1051   68 2019-06-01        Kota Bandar Lampung     Laki-laki   \n",
              "1065   69 2019-05-30            Kota Yogyakarta     Laki-laki   \n",
              "1082   70 2019-05-31              Kota Surabaya     Perempuan   \n",
              "1098   71 2019-05-31           Kabupaten Bantul     Laki-laki   \n",
              "1114   72 2019-05-31              Kota Semarang     Perempuan   \n",
              "1132   73 2019-06-02           Kabupaten Sleman     Laki-laki   \n",
              "1146   79 2019-05-31           Kabupaten Bantul     Perempuan   \n",
              "1147   79 2019-06-01            Kota Yogyakarta     Perempuan   \n",
              "1165   80 2019-06-03  Kabupaten Lampung Selatan     Perempuan   \n",
              "1177   81 2019-05-30            Kota Yogyakarta     Laki-laki   \n",
              "1194   82 2019-05-31         Kabupaten Wonogiri     Laki-laki   \n",
              "1210   83 2019-05-31  Kabupaten Lampung Selatan     Laki-laki   \n",
              "1227   84 2019-06-01                Kota Padang     Laki-laki   \n",
              "1243   85 2019-06-01           Kabupaten Sleman     Laki-laki   \n",
              "1258   87 2019-05-31                 Kota Medan     Laki-laki   \n",
              "1271   88 2019-05-28                Kota Padang     Laki-laki   \n",
              "1292   90 2019-06-02              Kota Semarang     Laki-laki   \n",
              "1302   91 2019-05-27           Kabupaten Bantul     Laki-laki   \n",
              "1320   92 2019-05-29         Kabupaten Wonogiri     Laki-laki   \n",
              "1339   93 2019-06-01                Kota Padang     Perempuan   \n",
              "1356   94 2019-06-02                 Kota Medan     Laki-laki   \n",
              "1372   95 2019-06-02               Kota Bandung     Laki-laki   \n",
              "1385   96 2019-05-30            Kota Yogyakarta     Perempuan   \n",
              "1404   97 2019-06-02        Kota Bandar Lampung     Laki-laki   \n",
              "1416   98 2019-05-29            Kota Yogyakarta     Perempuan   \n",
              "1433   99 2019-05-30         Kabupaten Wonogiri     Perempuan   \n",
              "1449  100 2019-05-30           Kabupaten Sleman     Perempuan   \n",
              "\n",
              "                     divisi  umur jabodetabek  \n",
              "5          Customer Service    34          no  \n",
              "7          Customer Service    34          no  \n",
              "25            Data Engineer    26          no  \n",
              "45        Software Engineer    28          no  \n",
              "58    Business Intelligence    21          no  \n",
              "61    Business Intelligence    21          no  \n",
              "73        Software Engineer    21          no  \n",
              "74        Software Engineer    21          no  \n",
              "87    Business Intelligence    28          no  \n",
              "90    Business Intelligence    28          no  \n",
              "106       Software Engineer    21          no  \n",
              "123        Customer Service    22          no  \n",
              "124        Customer Service    22          no  \n",
              "136   Business Intelligence    21          no  \n",
              "147            Data Science    21          no  \n",
              "148            Data Science    21          no  \n",
              "171               Marketing    25          no  \n",
              "184        Customer Service    28          no  \n",
              "185        Customer Service    28          no  \n",
              "199           Data Engineer    25          no  \n",
              "218           Data Engineer    25          no  \n",
              "234           Data Engineer    33          no  \n",
              "242       Software Engineer    23          no  \n",
              "248       Software Engineer    23          no  \n",
              "265       Software Engineer    23          no  \n",
              "268       Software Engineer    23          no  \n",
              "278        Customer Service    31          no  \n",
              "280        Customer Service    31          no  \n",
              "281        Customer Service    31          no  \n",
              "283        Customer Service    31          no  \n",
              "...                     ...   ...         ...  \n",
              "1000  Business Intelligence    33          no  \n",
              "1018              Marketing    26          no  \n",
              "1037          Data Engineer    28          no  \n",
              "1051          Data Engineer    33          no  \n",
              "1065       Customer Service    32          no  \n",
              "1082      Software Engineer    29          no  \n",
              "1098  Business Intelligence    33          no  \n",
              "1114  Business Intelligence    22          no  \n",
              "1132           Data Science    24          no  \n",
              "1146          Data Engineer    25          no  \n",
              "1147          Data Engineer    25          no  \n",
              "1165           Data Science    33          no  \n",
              "1177           Data Science    30          no  \n",
              "1194       Customer Service    27          no  \n",
              "1210  Business Intelligence    25          no  \n",
              "1227      Software Engineer    32          no  \n",
              "1243       Customer Service    34          no  \n",
              "1258  Business Intelligence    22          no  \n",
              "1271              Marketing    24          no  \n",
              "1292  Business Intelligence    23          no  \n",
              "1302          Data Engineer    27          no  \n",
              "1320       Customer Service    27          no  \n",
              "1339           Data Science    27          no  \n",
              "1356          Data Engineer    28          no  \n",
              "1372       Customer Service    34          no  \n",
              "1385       Customer Service    23          no  \n",
              "1404      Software Engineer    32          no  \n",
              "1416  Business Intelligence    28          no  \n",
              "1433      Software Engineer    25          no  \n",
              "1449      Software Engineer    29          no  \n",
              "\n",
              "[111 rows x 7 columns]"
            ]
          },
          "execution_count": 349,
          "metadata": {},
          "output_type": "execute_result"
        }
      ],
      "source": [
        "df2_mudik_tanggal"
      ]
    },
    {
      "cell_type": "code",
      "execution_count": null,
      "metadata": {
        "id": "rjVHhOeGU6af"
      },
      "outputs": [],
      "source": [
        "df2_mudik_tanggal = pd.merge(df2_mudik_tanggal, df2_mudik_kota, on=['id','lokasi_dominan'], how='inner')"
      ]
    },
    {
      "cell_type": "code",
      "execution_count": null,
      "metadata": {
        "id": "dmUnKF5aU6af",
        "outputId": "68c1f723-8836-4423-8afa-2f953e86075d"
      },
      "outputs": [
        {
          "data": {
            "text/html": [
              "<div>\n",
              "<style scoped>\n",
              "    .dataframe tbody tr th:only-of-type {\n",
              "        vertical-align: middle;\n",
              "    }\n",
              "\n",
              "    .dataframe tbody tr th {\n",
              "        vertical-align: top;\n",
              "    }\n",
              "\n",
              "    .dataframe thead th {\n",
              "        text-align: right;\n",
              "    }\n",
              "</style>\n",
              "<table border=\"1\" class=\"dataframe\">\n",
              "  <thead>\n",
              "    <tr style=\"text-align: right;\">\n",
              "      <th></th>\n",
              "      <th>id</th>\n",
              "      <th>tanggal</th>\n",
              "      <th>lokasi_dominan</th>\n",
              "      <th>jenis_kelamin</th>\n",
              "      <th>divisi</th>\n",
              "      <th>umur</th>\n",
              "      <th>jabodetabek</th>\n",
              "    </tr>\n",
              "  </thead>\n",
              "  <tbody>\n",
              "    <tr>\n",
              "      <th>0</th>\n",
              "      <td>1</td>\n",
              "      <td>2019-05-28</td>\n",
              "      <td>Kota Padang</td>\n",
              "      <td>Laki-laki</td>\n",
              "      <td>Customer Service</td>\n",
              "      <td>34</td>\n",
              "      <td>no</td>\n",
              "    </tr>\n",
              "    <tr>\n",
              "      <th>1</th>\n",
              "      <td>2</td>\n",
              "      <td>2019-05-30</td>\n",
              "      <td>Kota Manado</td>\n",
              "      <td>Laki-laki</td>\n",
              "      <td>Data Engineer</td>\n",
              "      <td>26</td>\n",
              "      <td>no</td>\n",
              "    </tr>\n",
              "    <tr>\n",
              "      <th>2</th>\n",
              "      <td>3</td>\n",
              "      <td>2019-06-03</td>\n",
              "      <td>Kota Padang</td>\n",
              "      <td>Laki-laki</td>\n",
              "      <td>Software Engineer</td>\n",
              "      <td>28</td>\n",
              "      <td>no</td>\n",
              "    </tr>\n",
              "    <tr>\n",
              "      <th>3</th>\n",
              "      <td>4</td>\n",
              "      <td>2019-05-31</td>\n",
              "      <td>Kota Bandar Lampung</td>\n",
              "      <td>Perempuan</td>\n",
              "      <td>Business Intelligence</td>\n",
              "      <td>21</td>\n",
              "      <td>no</td>\n",
              "    </tr>\n",
              "    <tr>\n",
              "      <th>4</th>\n",
              "      <td>5</td>\n",
              "      <td>2019-05-31</td>\n",
              "      <td>Kota Yogyakarta</td>\n",
              "      <td>Perempuan</td>\n",
              "      <td>Software Engineer</td>\n",
              "      <td>21</td>\n",
              "      <td>no</td>\n",
              "    </tr>\n",
              "  </tbody>\n",
              "</table>\n",
              "</div>"
            ],
            "text/plain": [
              "   id    tanggal       lokasi_dominan jenis_kelamin                 divisi  \\\n",
              "0   1 2019-05-28          Kota Padang     Laki-laki       Customer Service   \n",
              "1   2 2019-05-30          Kota Manado     Laki-laki          Data Engineer   \n",
              "2   3 2019-06-03          Kota Padang     Laki-laki      Software Engineer   \n",
              "3   4 2019-05-31  Kota Bandar Lampung     Perempuan  Business Intelligence   \n",
              "4   5 2019-05-31      Kota Yogyakarta     Perempuan      Software Engineer   \n",
              "\n",
              "   umur jabodetabek  \n",
              "0    34          no  \n",
              "1    26          no  \n",
              "2    28          no  \n",
              "3    21          no  \n",
              "4    21          no  "
            ]
          },
          "execution_count": 351,
          "metadata": {},
          "output_type": "execute_result"
        }
      ],
      "source": [
        "df2_mudik_tanggal.head()"
      ]
    },
    {
      "cell_type": "code",
      "execution_count": null,
      "metadata": {
        "id": "03cfuMeCU6af",
        "outputId": "3bfbfc61-6476-4761-8cbc-a7cdc43bf149"
      },
      "outputs": [
        {
          "data": {
            "text/plain": [
              "<matplotlib.axes._subplots.AxesSubplot at 0x13458ea9048>"
            ]
          },
          "execution_count": 356,
          "metadata": {},
          "output_type": "execute_result"
        },
        {
          "data": {
            "image/png": "[encoded data removed]",
            "text/plain": [
              "<Figure size 640x800 with 1 Axes>"
            ]
          },
          "metadata": {},
          "output_type": "display_data"
        }
      ],
      "source": [
        "df2_mudik_tanggal['tanggal'] = df2_mudik_tanggal['tanggal'].astype(str)\n",
        "df2_mudik_tanggal.groupby('tanggal').count()['id'].sort_values().plot('bar',figsize=(8,10))"
      ]
    },
    {
      "cell_type": "markdown",
      "metadata": {
        "id": "JFepzWDIU6af"
      },
      "source": [
        "*** Sesuai dengan prediksi DISHUB, bahwa PEAK akan terjadi pada tanggal 31 Mei 2019 ***"
      ]
    },
    {
      "cell_type": "markdown",
      "metadata": {
        "id": "ykCem_n2U6af"
      },
      "source": [
        "### amati variable lainnya"
      ]
    },
    {
      "cell_type": "markdown",
      "metadata": {
        "id": "cGFmZj9WU6af"
      },
      "source": [
        "**1. Korelasi antar usia dan divisi**"
      ]
    },
    {
      "cell_type": "code",
      "execution_count": null,
      "metadata": {
        "id": "nk5KaI0EU6ag",
        "outputId": "fded78b9-e42f-4036-eea9-c641ba0ba756"
      },
      "outputs": [
        {
          "data": {
            "text/plain": [
              "<matplotlib.axes._subplots.AxesSubplot at 0x1345b665908>"
            ]
          },
          "execution_count": 358,
          "metadata": {},
          "output_type": "execute_result"
        },
        {
          "data": {
            "image/png": "[encoded data removed]",
            "text/plain": [
              "<Figure size 240x280 with 1 Axes>"
            ]
          },
          "metadata": {},
          "output_type": "display_data"
        }
      ],
      "source": [
        "df2_mudik.groupby('divisi').count()['id'].sort_values().plot('bar')"
      ]
    },
    {
      "cell_type": "code",
      "execution_count": null,
      "metadata": {
        "id": "htl6z1a7U6ag",
        "outputId": "258fde05-8cb2-4dcc-eca4-2634a832f7d6"
      },
      "outputs": [
        {
          "data": {
            "text/html": [
              "<div>\n",
              "<style scoped>\n",
              "    .dataframe tbody tr th:only-of-type {\n",
              "        vertical-align: middle;\n",
              "    }\n",
              "\n",
              "    .dataframe tbody tr th {\n",
              "        vertical-align: top;\n",
              "    }\n",
              "\n",
              "    .dataframe thead th {\n",
              "        text-align: right;\n",
              "    }\n",
              "</style>\n",
              "<table border=\"1\" class=\"dataframe\">\n",
              "  <thead>\n",
              "    <tr style=\"text-align: right;\">\n",
              "      <th></th>\n",
              "      <th>id</th>\n",
              "      <th>tanggal</th>\n",
              "      <th>lokasi_dominan</th>\n",
              "      <th>jenis_kelamin</th>\n",
              "      <th>umur</th>\n",
              "      <th>jabodetabek</th>\n",
              "      <th>pulau</th>\n",
              "      <th>moda</th>\n",
              "    </tr>\n",
              "    <tr>\n",
              "      <th>divisi</th>\n",
              "      <th></th>\n",
              "      <th></th>\n",
              "      <th></th>\n",
              "      <th></th>\n",
              "      <th></th>\n",
              "      <th></th>\n",
              "      <th></th>\n",
              "      <th></th>\n",
              "    </tr>\n",
              "  </thead>\n",
              "  <tbody>\n",
              "    <tr>\n",
              "      <th>Business Intelligence</th>\n",
              "      <td>19</td>\n",
              "      <td>19</td>\n",
              "      <td>19</td>\n",
              "      <td>19</td>\n",
              "      <td>19</td>\n",
              "      <td>19</td>\n",
              "      <td>19</td>\n",
              "      <td>19</td>\n",
              "    </tr>\n",
              "    <tr>\n",
              "      <th>Customer Service</th>\n",
              "      <td>15</td>\n",
              "      <td>15</td>\n",
              "      <td>15</td>\n",
              "      <td>15</td>\n",
              "      <td>15</td>\n",
              "      <td>15</td>\n",
              "      <td>15</td>\n",
              "      <td>15</td>\n",
              "    </tr>\n",
              "    <tr>\n",
              "      <th>Data Engineer</th>\n",
              "      <td>13</td>\n",
              "      <td>13</td>\n",
              "      <td>13</td>\n",
              "      <td>13</td>\n",
              "      <td>13</td>\n",
              "      <td>13</td>\n",
              "      <td>13</td>\n",
              "      <td>13</td>\n",
              "    </tr>\n",
              "    <tr>\n",
              "      <th>Data Science</th>\n",
              "      <td>10</td>\n",
              "      <td>10</td>\n",
              "      <td>10</td>\n",
              "      <td>10</td>\n",
              "      <td>10</td>\n",
              "      <td>10</td>\n",
              "      <td>10</td>\n",
              "      <td>10</td>\n",
              "    </tr>\n",
              "    <tr>\n",
              "      <th>Marketing</th>\n",
              "      <td>8</td>\n",
              "      <td>8</td>\n",
              "      <td>8</td>\n",
              "      <td>8</td>\n",
              "      <td>8</td>\n",
              "      <td>8</td>\n",
              "      <td>8</td>\n",
              "      <td>8</td>\n",
              "    </tr>\n",
              "    <tr>\n",
              "      <th>Software Engineer</th>\n",
              "      <td>26</td>\n",
              "      <td>26</td>\n",
              "      <td>26</td>\n",
              "      <td>26</td>\n",
              "      <td>26</td>\n",
              "      <td>26</td>\n",
              "      <td>26</td>\n",
              "      <td>26</td>\n",
              "    </tr>\n",
              "  </tbody>\n",
              "</table>\n",
              "</div>"
            ],
            "text/plain": [
              "                       id  tanggal  lokasi_dominan  jenis_kelamin  umur  \\\n",
              "divisi                                                                    \n",
              "Business Intelligence  19       19              19             19    19   \n",
              "Customer Service       15       15              15             15    15   \n",
              "Data Engineer          13       13              13             13    13   \n",
              "Data Science           10       10              10             10    10   \n",
              "Marketing               8        8               8              8     8   \n",
              "Software Engineer      26       26              26             26    26   \n",
              "\n",
              "                       jabodetabek  pulau  moda  \n",
              "divisi                                           \n",
              "Business Intelligence           19     19    19  \n",
              "Customer Service                15     15    15  \n",
              "Data Engineer                   13     13    13  \n",
              "Data Science                    10     10    10  \n",
              "Marketing                        8      8     8  \n",
              "Software Engineer               26     26    26  "
            ]
          },
          "execution_count": 365,
          "metadata": {},
          "output_type": "execute_result"
        }
      ],
      "source": [
        "df2_mudik_divisi = df2_mudik.groupby('divisi').count()\n",
        "df2_mudik_divisi"
      ]
    },
    {
      "cell_type": "code",
      "execution_count": null,
      "metadata": {
        "id": "V-6fA_aeU6ag"
      },
      "outputs": [],
      "source": [
        "df3_divisi = []\n",
        "for x, row in df2_mudik.iterrows():\n",
        "    n = 0\n",
        "    n  = df2_mudik.loc[(df2_mudik['umur']==row['umur']) & (df2_mudik['divisi']==row['divisi'])]['id'].count()\n",
        "    df3_divisi.append([row['umur'], row['divisi'], n])\n",
        "    #print(n)\n",
        "#df3 = pd.concat(df3, ignore_index=False)"
      ]
    },
    {
      "cell_type": "code",
      "execution_count": null,
      "metadata": {
        "id": "Haf-jYQhU6ag"
      },
      "outputs": [],
      "source": [
        "df3_divisi = pd.DataFrame(df3_divisi)"
      ]
    },
    {
      "cell_type": "code",
      "execution_count": null,
      "metadata": {
        "id": "bMfeViihU6ag",
        "outputId": "961a836e-b4d8-4c02-9018-6bb3329ae846"
      },
      "outputs": [
        {
          "data": {
            "text/plain": [
              "(91, 3)"
            ]
          },
          "execution_count": 447,
          "metadata": {},
          "output_type": "execute_result"
        }
      ],
      "source": [
        "df3_divisi.shape"
      ]
    },
    {
      "cell_type": "code",
      "execution_count": null,
      "metadata": {
        "id": "0bHeL5ocU6ag"
      },
      "outputs": [],
      "source": [
        "df3_divisi.rename({0:'umur',1:'divisi', 2:'N'},axis=1, inplace=True)"
      ]
    },
    {
      "cell_type": "code",
      "execution_count": null,
      "metadata": {
        "id": "tg23lFcsU6ag",
        "outputId": "bb8d67ca-448b-4fdd-bf10-44162eeb9840"
      },
      "outputs": [
        {
          "data": {
            "text/html": [
              "<div>\n",
              "<style scoped>\n",
              "    .dataframe tbody tr th:only-of-type {\n",
              "        vertical-align: middle;\n",
              "    }\n",
              "\n",
              "    .dataframe tbody tr th {\n",
              "        vertical-align: top;\n",
              "    }\n",
              "\n",
              "    .dataframe thead th {\n",
              "        text-align: right;\n",
              "    }\n",
              "</style>\n",
              "<table border=\"1\" class=\"dataframe\">\n",
              "  <thead>\n",
              "    <tr style=\"text-align: right;\">\n",
              "      <th></th>\n",
              "      <th>umur</th>\n",
              "      <th>divisi</th>\n",
              "      <th>N</th>\n",
              "    </tr>\n",
              "  </thead>\n",
              "  <tbody>\n",
              "    <tr>\n",
              "      <th>0</th>\n",
              "      <td>34</td>\n",
              "      <td>Customer Service</td>\n",
              "      <td>4</td>\n",
              "    </tr>\n",
              "    <tr>\n",
              "      <th>1</th>\n",
              "      <td>26</td>\n",
              "      <td>Data Engineer</td>\n",
              "      <td>1</td>\n",
              "    </tr>\n",
              "    <tr>\n",
              "      <th>2</th>\n",
              "      <td>28</td>\n",
              "      <td>Software Engineer</td>\n",
              "      <td>2</td>\n",
              "    </tr>\n",
              "    <tr>\n",
              "      <th>3</th>\n",
              "      <td>21</td>\n",
              "      <td>Business Intelligence</td>\n",
              "      <td>2</td>\n",
              "    </tr>\n",
              "    <tr>\n",
              "      <th>4</th>\n",
              "      <td>21</td>\n",
              "      <td>Software Engineer</td>\n",
              "      <td>2</td>\n",
              "    </tr>\n",
              "  </tbody>\n",
              "</table>\n",
              "</div>"
            ],
            "text/plain": [
              "   umur                 divisi  N\n",
              "0    34       Customer Service  4\n",
              "1    26          Data Engineer  1\n",
              "2    28      Software Engineer  2\n",
              "3    21  Business Intelligence  2\n",
              "4    21      Software Engineer  2"
            ]
          },
          "execution_count": 449,
          "metadata": {},
          "output_type": "execute_result"
        }
      ],
      "source": [
        "df3_divisi.head()"
      ]
    },
    {
      "cell_type": "code",
      "execution_count": null,
      "metadata": {
        "id": "IAPP3KoQU6ag",
        "outputId": "17a55429-eeaf-4af8-8795-f13625932fb6"
      },
      "outputs": [
        {
          "data": {
            "text/plain": [
              "<matplotlib.collections.PathCollection at 0x1345d7f3470>"
            ]
          },
          "execution_count": 451,
          "metadata": {},
          "output_type": "execute_result"
        },
        {
          "data": {
            "image/png": "[encoded data removed]",
            "text/plain": [
              "<Figure size 800x1200 with 1 Axes>"
            ]
          },
          "metadata": {},
          "output_type": "display_data"
        }
      ],
      "source": [
        "import numpy as np\n",
        "\n",
        "plt.figure(figsize=(10,15))\n",
        "plt.scatter(x=df3_divisi['umur'], y=df3_divisi['divisi'], s=df3_divisi['N']*400, c='red',alpha=0.3, cmap='viridis')"
      ]
    },
    {
      "cell_type": "markdown",
      "metadata": {
        "id": "xssdfb5VU6ah"
      },
      "source": [
        "**Bisa dilihat bahwa sebaran usia antar divisi merata**"
      ]
    },
    {
      "cell_type": "markdown",
      "metadata": {
        "id": "H1Ytc485U6ah"
      },
      "source": [
        " **2. Gender per divisi**"
      ]
    },
    {
      "cell_type": "code",
      "execution_count": null,
      "metadata": {
        "id": "5sWZ_Gb_U6ah"
      },
      "outputs": [],
      "source": [
        "df3_gender = []\n",
        "for x, row in df2_mudik.iterrows():\n",
        "    n = 0\n",
        "    n  = df2_mudik.loc[(df2_mudik['jenis_kelamin']==row['jenis_kelamin']) & (df2_mudik['divisi']==row['divisi'])]['id'].count()\n",
        "    df3_gender.append([row['jenis_kelamin'], row['divisi'], n])\n",
        "    #print(n)"
      ]
    },
    {
      "cell_type": "code",
      "execution_count": null,
      "metadata": {
        "id": "-FV-lY6JU6ah"
      },
      "outputs": [],
      "source": [
        "df3_gender = pd.DataFrame(df3_gender, columns=['gender','divisi','N'])"
      ]
    },
    {
      "cell_type": "code",
      "execution_count": null,
      "metadata": {
        "id": "mg2gVt-gU6ah",
        "outputId": "337849e8-3b2d-4d09-fc99-35b18154642b"
      },
      "outputs": [
        {
          "data": {
            "text/html": [
              "<div>\n",
              "<style scoped>\n",
              "    .dataframe tbody tr th:only-of-type {\n",
              "        vertical-align: middle;\n",
              "    }\n",
              "\n",
              "    .dataframe tbody tr th {\n",
              "        vertical-align: top;\n",
              "    }\n",
              "\n",
              "    .dataframe thead th {\n",
              "        text-align: right;\n",
              "    }\n",
              "</style>\n",
              "<table border=\"1\" class=\"dataframe\">\n",
              "  <thead>\n",
              "    <tr style=\"text-align: right;\">\n",
              "      <th></th>\n",
              "      <th>gender</th>\n",
              "      <th>divisi</th>\n",
              "      <th>N</th>\n",
              "    </tr>\n",
              "  </thead>\n",
              "  <tbody>\n",
              "    <tr>\n",
              "      <th>0</th>\n",
              "      <td>Laki-laki</td>\n",
              "      <td>Customer Service</td>\n",
              "      <td>12</td>\n",
              "    </tr>\n",
              "    <tr>\n",
              "      <th>1</th>\n",
              "      <td>Laki-laki</td>\n",
              "      <td>Data Engineer</td>\n",
              "      <td>10</td>\n",
              "    </tr>\n",
              "    <tr>\n",
              "      <th>2</th>\n",
              "      <td>Laki-laki</td>\n",
              "      <td>Software Engineer</td>\n",
              "      <td>18</td>\n",
              "    </tr>\n",
              "    <tr>\n",
              "      <th>3</th>\n",
              "      <td>Perempuan</td>\n",
              "      <td>Business Intelligence</td>\n",
              "      <td>5</td>\n",
              "    </tr>\n",
              "    <tr>\n",
              "      <th>4</th>\n",
              "      <td>Perempuan</td>\n",
              "      <td>Software Engineer</td>\n",
              "      <td>8</td>\n",
              "    </tr>\n",
              "  </tbody>\n",
              "</table>\n",
              "</div>"
            ],
            "text/plain": [
              "      gender                 divisi   N\n",
              "0  Laki-laki       Customer Service  12\n",
              "1  Laki-laki          Data Engineer  10\n",
              "2  Laki-laki      Software Engineer  18\n",
              "3  Perempuan  Business Intelligence   5\n",
              "4  Perempuan      Software Engineer   8"
            ]
          },
          "execution_count": 456,
          "metadata": {},
          "output_type": "execute_result"
        }
      ],
      "source": [
        "df3_gender.head()"
      ]
    },
    {
      "cell_type": "code",
      "execution_count": null,
      "metadata": {
        "id": "eGHhPZH7U6ah",
        "outputId": "a51e15c8-8c2b-4378-8e02-c6bc7077127b"
      },
      "outputs": [
        {
          "data": {
            "text/plain": [
              "<matplotlib.collections.PathCollection at 0x1345e2b39b0>"
            ]
          },
          "execution_count": 461,
          "metadata": {},
          "output_type": "execute_result"
        },
        {
          "data": {
            "image/png": "[encoded data removed]",
            "text/plain": [
              "<Figure size 800x1200 with 1 Axes>"
            ]
          },
          "metadata": {},
          "output_type": "display_data"
        }
      ],
      "source": [
        "plt.figure(figsize=(10,15))\n",
        "plt.scatter(x=df3_gender['gender'], y=df3_gender['divisi'], s=df3_gender['N']*400, c=color_arr[3],alpha=0.7, cmap='viridis')"
      ]
    },
    {
      "cell_type": "markdown",
      "metadata": {
        "id": "SQHI4t5OU6ai"
      },
      "source": [
        "**Jumlah staff laki-laki 2 kali jumlah staff perempuan, sehingga terlihat mendominasi semua divisi. Namun pada divisi data science jumlah staff perempuan dan laki-laki sebanding**"
      ]
    },
    {
      "cell_type": "code",
      "execution_count": null,
      "metadata": {
        "id": "CS-aCQeLU6ai"
      },
      "outputs": [],
      "source": []
    }
  ],
  "metadata": {
    "kernelspec": {
      "display_name": "Python 3",
      "language": "python",
      "name": "python3"
    },
    "language_info": {
      "codemirror_mode": {
        "name": "ipython",
        "version": 3
      },
      "file_extension": ".py",
      "mimetype": "text/x-python",
      "name": "python",
      "nbconvert_exporter": "python",
      "pygments_lexer": "ipython3",
      "version": "3.6.4"
    },
    "colab": {
      "provenance": [],
      "include_colab_link": true
    }
  },
  "nbformat": 4,
  "nbformat_minor": 0
}