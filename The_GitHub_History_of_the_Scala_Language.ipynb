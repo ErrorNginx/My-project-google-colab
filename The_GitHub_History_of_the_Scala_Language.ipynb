{
  "nbformat": 4,
  "nbformat_minor": 0,
  "metadata": {
    "colab": {
      "provenance": [],
      "authorship_tag": "ABX9TyOJMnn2k9+PvjKCxIVE1pL8",
      "include_colab_link": true
    },
    "kernelspec": {
      "name": "python3",
      "display_name": "Python 3"
    },
    "language_info": {
      "name": "python"
    }
  },
  "cells": [
    {
      "cell_type": "markdown",
      "metadata": {
        "id": "view-in-github",
        "colab_type": "text"
      },
      "source": [
        "<a href=\"https://colab.research.google.com/github/ErrorNginx/My-project-google-colab/blob/main/The_GitHub_History_of_the_Scala_Language.ipynb\" target=\"_parent\"><img src=\"https://colab.research.google.com/assets/colab-badge.svg\" alt=\"Open In Colab\"/></a>"
      ]
    },
    {
      "cell_type": "markdown",
      "source": [
        "**The GitHub History of the Scala Language**\n",
        "\n",
        "Dengan hampir 30.000 komit dan sejarah yang mencakup lebih dari sepuluh tahun, Scala adalah bahasa pemrograman yang matang. Ini adalah bahasa pemrograman umum yang baru-baru ini menjadi salah satu bahasa yang menonjol bagi ilmuwan data.\n",
        "\n",
        "Scala juga merupakan proyek sumber terbuka. Proyek sumber terbuka memiliki keuntungan bahwa seluruh riwayat pengembangannya -- siapa yang membuat perubahan, apa yang diubah, tinjauan kode, dll. -- tersedia untuk umum.\n",
        "\n",
        "Kami akan membaca, membersihkan, dan memvisualisasikan repositori proyek dunia nyata Scala yang mencakup data dari sistem kontrol versi (Git) serta situs hosting proyek (GitHub). Kami akan mencari tahu siapa yang memiliki pengaruh paling besar pada pengembangannya dan siapa para ahli.\n",
        "\n",
        "Dataset yang akan kami gunakan, yang sebelumnya telah ditambang dan diekstraksi dari GitHub, terdiri dari tiga file:\n",
        "\n",
        "1. pulls_2011-2013.csv contains the basic information about the pull requests, and spans from the end of 2011 up to (but not including) 2014.\n",
        "2. pulls_2014-2018.csv contains identical information, and spans from 2014 up to 2018.\n",
        "3. pull_files.csv contains the files that were modified by each pull request."
      ],
      "metadata": {
        "id": "U-Kx9kHHsRAM"
      }
    },
    {
      "cell_type": "code",
      "execution_count": 1,
      "metadata": {
        "id": "FuxDzYRtsPDI"
      },
      "outputs": [],
      "source": [
        "# Importing pandas\n",
        "import pandas as pd\n",
        "\n",
        "# Loading in the data\n",
        "pulls_one = pd.read_csv('/content/pulls_2011-2013.csv')\n",
        "pulls_two = pd.read_csv('/content/pulls_2014-2018.csv')\n",
        "pull_files = pd.read_csv('/content/pull_files.csv')"
      ]
    },
    {
      "cell_type": "markdown",
      "source": [
        "**Preparing and cleaning the data**\n",
        "Pertama, kita perlu menggabungkan data dari dua DataFrame pull terpisah.\n",
        "\n",
        "Selanjutnya, data mentah yang diekstraksi dari GitHub mengandung tanggal dalam format ISO8601. Namun, pandas mengimpornya sebagai string biasa. Untuk memudahkan analisis kita, kita perlu mengonversi string tersebut menjadi objek DateTime Python. Objek DateTime memiliki properti penting bahwa mereka dapat dibandingkan dan diurutkan.\n",
        "\n",
        "Waktu pull request semuanya dalam UTC (dikenal juga sebagai Coordinated Universal Time). Namun, waktu komit, berada dalam waktu lokal penulis dengan informasi zona waktu (perbedaan jam dari UTC). Untuk memudahkan perbandingan, kita sebaiknya mengonversi semua waktu ke UTC."
      ],
      "metadata": {
        "id": "5JOR8RFWtN4t"
      }
    },
    {
      "cell_type": "code",
      "source": [
        "# Append pulls_one to pulls_two\n",
        "pulls = pulls_two.append(pulls_one, ignore_index=True)\n",
        "\n",
        "# Convert the date for the pulls object\n",
        "pulls['date'] = pd.to_datetime(pulls['date'], utc=True)"
      ],
      "metadata": {
        "colab": {
          "base_uri": "https://localhost:8080/"
        },
        "id": "JzsUGnW9tO00",
        "outputId": "eeaabd8f-ab67-4ced-b571-529d252f974b"
      },
      "execution_count": 2,
      "outputs": [
        {
          "output_type": "stream",
          "name": "stderr",
          "text": [
            "<ipython-input-2-5d26c9bc6580>:2: FutureWarning: The frame.append method is deprecated and will be removed from pandas in a future version. Use pandas.concat instead.\n",
            "  pulls = pulls_two.append(pulls_one, ignore_index=True)\n"
          ]
        }
      ]
    },
    {
      "cell_type": "markdown",
      "source": [
        "The data extracted comes in two separate files. Merging the two DataFrames will make it easier for us to analyze the data in the future tasks."
      ],
      "metadata": {
        "id": "hk7fP4motW40"
      }
    },
    {
      "cell_type": "code",
      "source": [
        "# Merge the two DataFrames\n",
        "data = pulls.merge(pull_files, on='pid')"
      ],
      "metadata": {
        "id": "8mUuCyW0tWZU"
      },
      "execution_count": 3,
      "outputs": []
    },
    {
      "cell_type": "markdown",
      "source": [
        "The activity in an open source project is not very consistent. Some projects might be active for many years after the initial release, while others can slowly taper out into oblivion. Before committing to contributing to a project, it is important to understand the state of the project. Is development going steadily, or is there a drop? Has the project been abandoned altogether?\n",
        "\n",
        "The data used in this project was collected in January of 2018. We are interested in the evolution of the number of contributions up to that date.\n",
        "\n",
        "For Scala, we will do this by plotting a chart of the project's activity. We will calculate the number of pull requests submitted each (calendar) month during the project's lifetime. We will then plot these numbers to see the trend of contributions.\n",
        "\n",
        "A helpful reminder of how to access various components of a date can be found in this exercise of Data Manipulation with pandas\n",
        "\n",
        "Additionally, recall that you can group by multiple variables by passing a list to groupby(). This video from Data Manipulation with pandas should help!"
      ],
      "metadata": {
        "id": "5hrQlZQNteNt"
      }
    },
    {
      "cell_type": "code",
      "source": [
        "%matplotlib inline\n",
        "\n",
        "# Create a column that will store the month\n",
        "data['month'] = data['date'].dt.month\n",
        "\n",
        "# Create a column that will store the year\n",
        "data['year'] = data['date'].dt.year\n",
        "\n",
        "# Group by month_year and count the pull requests\n",
        "counts = data.groupby(['year', 'month'])['pid'].count()\n",
        "\n",
        "# Plot the results\n",
        "counts.plot(kind='bar', figsize = (12,4))"
      ],
      "metadata": {
        "colab": {
          "base_uri": "https://localhost:8080/",
          "height": 463
        },
        "id": "Uo5nSfQJte_c",
        "outputId": "43f1c163-f439-4b0c-895d-92021cccbbd2"
      },
      "execution_count": 4,
      "outputs": [
        {
          "output_type": "execute_result",
          "data": {
            "text/plain": [
              "<Axes: xlabel='year,month'>"
            ]
          },
          "metadata": {},
          "execution_count": 4
        },
        {
          "output_type": "display_data",
          "data": {
            "text/plain": [
              "<Figure size 1200x400 with 1 Axes>"
            ],
            "image/png": "[encoded data removed]"
          },
          "metadata": {}
        }
      ]
    }
  ]
}